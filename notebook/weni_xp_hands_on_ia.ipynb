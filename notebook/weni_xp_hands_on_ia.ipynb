{
  "nbformat": 4,
  "nbformat_minor": 0,
  "metadata": {
    "colab": {
      "provenance": [],
      "authorship_tag": "ABX9TyP+VeQCY1JJi3ENJKAFy9KY",
      "include_colab_link": true
    },
    "kernelspec": {
      "name": "python3",
      "display_name": "Python 3"
    },
    "language_info": {
      "name": "python"
    }
  },
  "cells": [
    {
      "cell_type": "markdown",
      "metadata": {
        "id": "view-in-github",
        "colab_type": "text"
      },
      "source": [
        "<a href=\"https://colab.research.google.com/github/Mel-iza/Weni_XP_IA/blob/main/notebook/weni_xp_hands_on_ia.ipynb\" target=\"_parent\"><img src=\"https://colab.research.google.com/assets/colab-badge.svg\" alt=\"Open In Colab\"/></a>"
      ]
    },
    {
      "cell_type": "markdown",
      "source": [
        "### 0. Exploração do problema"
      ],
      "metadata": {
        "id": "h9FsUBLFI4HZ"
      }
    },
    {
      "cell_type": "markdown",
      "source": [],
      "metadata": {
        "id": "fPyypjOYtMhG"
      }
    },
    {
      "cell_type": "markdown",
      "source": [
        "### 1. Instalação das bibliotecas e importação dos dados \n"
      ],
      "metadata": {
        "id": "dGYZgajZImz9"
      }
    },
    {
      "cell_type": "markdown",
      "source": [
        "Instalação das bibliotecas que vamos utilizar:"
      ],
      "metadata": {
        "id": "3sSNss_6ZOeU"
      }
    },
    {
      "cell_type": "code",
      "execution_count": null,
      "metadata": {
        "id": "2V0TiwMecf8k"
      },
      "outputs": [],
      "source": [
        "# Execute essa célula para instalação das bibliotecas necessárias\n",
        "\n",
        "!pip install scikit-learn==1.2.1\n",
        "!pip install numpy==1.24.2\n",
        "!pip install scipy==1.2.1 \n",
        "!pip install pandas==1.5.3\n",
        "!pip install Unidecode==1.3.6\n",
        "!pip install nltk==3.8.1\n",
        "!pip install spacy==3.5.0\n",
        "!python -m spacy download pt_core_news_sm"
      ]
    },
    {
      "cell_type": "markdown",
      "source": [
        "Importação das bibliotecas e módulos"
      ],
      "metadata": {
        "id": "AsYJDohTZS-u"
      }
    },
    {
      "cell_type": "code",
      "source": [
        "# Execute essa célula para importarmos as bibliotecas\n",
        "\n",
        "# Manipulação de dados\n",
        "import pandas as pd\n",
        "import numpy as np\n",
        "import unicodedata\n",
        "import unidecode\n",
        "import re\n",
        "\n",
        "\n",
        "# Machine Learning, vetorização e métricas\n",
        "import sklearn\n",
        "from sklearn import metrics\n",
        "from sklearn.metrics import accuracy_score\n",
        "from sklearn.metrics import classification_report\n",
        "from sklearn.linear_model import LogisticRegressionCV\n",
        "\n",
        "\n",
        "# Tratamento e manipulação de texto\n",
        "import nltk\n",
        "import spacy\n",
        "import pt_core_news_sm\n",
        "from sklearn.feature_extraction.text import TfidfVectorizer,CountVectorizer"
      ],
      "metadata": {
        "id": "CscFRXsGORVP"
      },
      "execution_count": 10,
      "outputs": []
    },
    {
      "cell_type": "markdown",
      "source": [
        "----------------------"
      ],
      "metadata": {
        "id": "fOZ3t4bsUznK"
      }
    },
    {
      "cell_type": "markdown",
      "source": [
        "Importando os dados"
      ],
      "metadata": {
        "id": "nZr4lo1mZZVu"
      }
    },
    {
      "cell_type": "code",
      "source": [
        "# Seu código aqui\n",
        "# Importe o conjunto de dados\n",
        "\n",
        "data = pd.read_csv('')\n",
        "data"
      ],
      "metadata": {
        "id": "y3NxN0u4Zg-j"
      },
      "execution_count": null,
      "outputs": []
    },
    {
      "cell_type": "code",
      "source": [
        "#@title resultado esperado:\n",
        "\n",
        "data =  pd.read_csv('/content/train_dataset_1.csv')\n",
        "data"
      ],
      "metadata": {
        "colab": {
          "base_uri": "https://localhost:8080/",
          "height": 423
        },
        "cellView": "form",
        "id": "Rs4OmojKRiXC",
        "outputId": "f504089f-73d5-4f0e-dfeb-25c038227478"
      },
      "execution_count": 31,
      "outputs": [
        {
          "output_type": "execute_result",
          "data": {
            "text/plain": [
              "                                                   text    label\n",
              "0     Olá, muito prazer! Sou o seu assistente virtua...  chatbot\n",
              "1     Fechado, vamos fazer assim. Você passa os dado...  chatbot\n",
              "2     Pra adiantar, vou precisar que você me fale qu...  chatbot\n",
              "3     Humm eu não entendi, desculpa.\\n\\nDigite 1 par...  chatbot\n",
              "4     Pera só um instante que vou checar aqui se enc...  chatbot\n",
              "...                                                 ...      ...\n",
              "1537                                                 42   humano\n",
              "1538                                              start   humano\n",
              "1539                             Quais são os riscos? 😷   humano\n",
              "1540                                                Nao   humano\n",
              "1541                                                 Ok   humano\n",
              "\n",
              "[1542 rows x 2 columns]"
            ],
            "text/html": [
              "\n",
              "  <div id=\"df-33c153cf-fc52-4645-bc49-7d9976d03125\">\n",
              "    <div class=\"colab-df-container\">\n",
              "      <div>\n",
              "<style scoped>\n",
              "    .dataframe tbody tr th:only-of-type {\n",
              "        vertical-align: middle;\n",
              "    }\n",
              "\n",
              "    .dataframe tbody tr th {\n",
              "        vertical-align: top;\n",
              "    }\n",
              "\n",
              "    .dataframe thead th {\n",
              "        text-align: right;\n",
              "    }\n",
              "</style>\n",
              "<table border=\"1\" class=\"dataframe\">\n",
              "  <thead>\n",
              "    <tr style=\"text-align: right;\">\n",
              "      <th></th>\n",
              "      <th>text</th>\n",
              "      <th>label</th>\n",
              "    </tr>\n",
              "  </thead>\n",
              "  <tbody>\n",
              "    <tr>\n",
              "      <th>0</th>\n",
              "      <td>Olá, muito prazer! Sou o seu assistente virtua...</td>\n",
              "      <td>chatbot</td>\n",
              "    </tr>\n",
              "    <tr>\n",
              "      <th>1</th>\n",
              "      <td>Fechado, vamos fazer assim. Você passa os dado...</td>\n",
              "      <td>chatbot</td>\n",
              "    </tr>\n",
              "    <tr>\n",
              "      <th>2</th>\n",
              "      <td>Pra adiantar, vou precisar que você me fale qu...</td>\n",
              "      <td>chatbot</td>\n",
              "    </tr>\n",
              "    <tr>\n",
              "      <th>3</th>\n",
              "      <td>Humm eu não entendi, desculpa.\\n\\nDigite 1 par...</td>\n",
              "      <td>chatbot</td>\n",
              "    </tr>\n",
              "    <tr>\n",
              "      <th>4</th>\n",
              "      <td>Pera só um instante que vou checar aqui se enc...</td>\n",
              "      <td>chatbot</td>\n",
              "    </tr>\n",
              "    <tr>\n",
              "      <th>...</th>\n",
              "      <td>...</td>\n",
              "      <td>...</td>\n",
              "    </tr>\n",
              "    <tr>\n",
              "      <th>1537</th>\n",
              "      <td>42</td>\n",
              "      <td>humano</td>\n",
              "    </tr>\n",
              "    <tr>\n",
              "      <th>1538</th>\n",
              "      <td>start</td>\n",
              "      <td>humano</td>\n",
              "    </tr>\n",
              "    <tr>\n",
              "      <th>1539</th>\n",
              "      <td>Quais são os riscos? 😷</td>\n",
              "      <td>humano</td>\n",
              "    </tr>\n",
              "    <tr>\n",
              "      <th>1540</th>\n",
              "      <td>Nao</td>\n",
              "      <td>humano</td>\n",
              "    </tr>\n",
              "    <tr>\n",
              "      <th>1541</th>\n",
              "      <td>Ok</td>\n",
              "      <td>humano</td>\n",
              "    </tr>\n",
              "  </tbody>\n",
              "</table>\n",
              "<p>1542 rows × 2 columns</p>\n",
              "</div>\n",
              "      <button class=\"colab-df-convert\" onclick=\"convertToInteractive('df-33c153cf-fc52-4645-bc49-7d9976d03125')\"\n",
              "              title=\"Convert this dataframe to an interactive table.\"\n",
              "              style=\"display:none;\">\n",
              "        \n",
              "  <svg xmlns=\"http://www.w3.org/2000/svg\" height=\"24px\"viewBox=\"0 0 24 24\"\n",
              "       width=\"24px\">\n",
              "    <path d=\"M0 0h24v24H0V0z\" fill=\"none\"/>\n",
              "    <path d=\"M18.56 5.44l.94 2.06.94-2.06 2.06-.94-2.06-.94-.94-2.06-.94 2.06-2.06.94zm-11 1L8.5 8.5l.94-2.06 2.06-.94-2.06-.94L8.5 2.5l-.94 2.06-2.06.94zm10 10l.94 2.06.94-2.06 2.06-.94-2.06-.94-.94-2.06-.94 2.06-2.06.94z\"/><path d=\"M17.41 7.96l-1.37-1.37c-.4-.4-.92-.59-1.43-.59-.52 0-1.04.2-1.43.59L10.3 9.45l-7.72 7.72c-.78.78-.78 2.05 0 2.83L4 21.41c.39.39.9.59 1.41.59.51 0 1.02-.2 1.41-.59l7.78-7.78 2.81-2.81c.8-.78.8-2.07 0-2.86zM5.41 20L4 18.59l7.72-7.72 1.47 1.35L5.41 20z\"/>\n",
              "  </svg>\n",
              "      </button>\n",
              "      \n",
              "  <style>\n",
              "    .colab-df-container {\n",
              "      display:flex;\n",
              "      flex-wrap:wrap;\n",
              "      gap: 12px;\n",
              "    }\n",
              "\n",
              "    .colab-df-convert {\n",
              "      background-color: #E8F0FE;\n",
              "      border: none;\n",
              "      border-radius: 50%;\n",
              "      cursor: pointer;\n",
              "      display: none;\n",
              "      fill: #1967D2;\n",
              "      height: 32px;\n",
              "      padding: 0 0 0 0;\n",
              "      width: 32px;\n",
              "    }\n",
              "\n",
              "    .colab-df-convert:hover {\n",
              "      background-color: #E2EBFA;\n",
              "      box-shadow: 0px 1px 2px rgba(60, 64, 67, 0.3), 0px 1px 3px 1px rgba(60, 64, 67, 0.15);\n",
              "      fill: #174EA6;\n",
              "    }\n",
              "\n",
              "    [theme=dark] .colab-df-convert {\n",
              "      background-color: #3B4455;\n",
              "      fill: #D2E3FC;\n",
              "    }\n",
              "\n",
              "    [theme=dark] .colab-df-convert:hover {\n",
              "      background-color: #434B5C;\n",
              "      box-shadow: 0px 1px 3px 1px rgba(0, 0, 0, 0.15);\n",
              "      filter: drop-shadow(0px 1px 2px rgba(0, 0, 0, 0.3));\n",
              "      fill: #FFFFFF;\n",
              "    }\n",
              "  </style>\n",
              "\n",
              "      <script>\n",
              "        const buttonEl =\n",
              "          document.querySelector('#df-33c153cf-fc52-4645-bc49-7d9976d03125 button.colab-df-convert');\n",
              "        buttonEl.style.display =\n",
              "          google.colab.kernel.accessAllowed ? 'block' : 'none';\n",
              "\n",
              "        async function convertToInteractive(key) {\n",
              "          const element = document.querySelector('#df-33c153cf-fc52-4645-bc49-7d9976d03125');\n",
              "          const dataTable =\n",
              "            await google.colab.kernel.invokeFunction('convertToInteractive',\n",
              "                                                     [key], {});\n",
              "          if (!dataTable) return;\n",
              "\n",
              "          const docLinkHtml = 'Like what you see? Visit the ' +\n",
              "            '<a target=\"_blank\" href=https://colab.research.google.com/notebooks/data_table.ipynb>data table notebook</a>'\n",
              "            + ' to learn more about interactive tables.';\n",
              "          element.innerHTML = '';\n",
              "          dataTable['output_type'] = 'display_data';\n",
              "          await google.colab.output.renderOutput(dataTable, element);\n",
              "          const docLink = document.createElement('div');\n",
              "          docLink.innerHTML = docLinkHtml;\n",
              "          element.appendChild(docLink);\n",
              "        }\n",
              "      </script>\n",
              "    </div>\n",
              "  </div>\n",
              "  "
            ]
          },
          "metadata": {},
          "execution_count": 31
        }
      ]
    },
    {
      "cell_type": "markdown",
      "source": [
        "----------------"
      ],
      "metadata": {
        "id": "tiNdK2SxZg5d"
      }
    },
    {
      "cell_type": "markdown",
      "source": [
        "### 2. Conhecer e pré-processar os dados\n"
      ],
      "metadata": {
        "id": "sg8On8FKIr-R"
      }
    },
    {
      "cell_type": "markdown",
      "source": [
        "Conferindo algumas informações básicas sobre o conjunto de dados"
      ],
      "metadata": {
        "id": "t8SJPyNXVLaj"
      }
    },
    {
      "cell_type": "code",
      "source": [
        "# Seu código aqui\n",
        "# Mostre as informações básicas do conjunto de dados\n",
        "\n"
      ],
      "metadata": {
        "id": "hb6cxLz3VQnD"
      },
      "execution_count": 37,
      "outputs": []
    },
    {
      "cell_type": "code",
      "source": [
        "#@title resultado esperado:\n",
        "\n",
        "\n",
        "print('linhas e colunas: ', data.shape)\n",
        "print('\\n')\n",
        "data.info()"
      ],
      "metadata": {
        "colab": {
          "base_uri": "https://localhost:8080/"
        },
        "cellView": "form",
        "id": "2ISkIgsQaeq4",
        "outputId": "c48c8429-a6fd-4fa7-d600-8900001cc284"
      },
      "execution_count": 34,
      "outputs": [
        {
          "output_type": "stream",
          "name": "stdout",
          "text": [
            "linhas e colunas:  (1542, 2)\n",
            "\n",
            "\n",
            "<class 'pandas.core.frame.DataFrame'>\n",
            "RangeIndex: 1542 entries, 0 to 1541\n",
            "Data columns (total 2 columns):\n",
            " #   Column  Non-Null Count  Dtype \n",
            "---  ------  --------------  ----- \n",
            " 0   text    1542 non-null   object\n",
            " 1   label   1542 non-null   object\n",
            "dtypes: object(2)\n",
            "memory usage: 24.2+ KB\n"
          ]
        }
      ]
    },
    {
      "cell_type": "markdown",
      "source": [
        "Conferindo algumas linhas do conjunto de dados:\n",
        "- primeiras linhas\n",
        "- linhas escolhidas aleatoriament"
      ],
      "metadata": {
        "id": "skxiOUztbyqp"
      }
    },
    {
      "cell_type": "code",
      "source": [
        "# Seu código aqui\n",
        "# Mostre as primeiras linhas do conjunto de dados\n",
        "\n",
        "\n"
      ],
      "metadata": {
        "id": "2HpjMAqCbfgB"
      },
      "execution_count": null,
      "outputs": []
    },
    {
      "cell_type": "code",
      "source": [
        "#@title resultado esperado:\n",
        "\n",
        "data.sample(10)"
      ],
      "metadata": {
        "cellView": "form",
        "colab": {
          "base_uri": "https://localhost:8080/",
          "height": 362
        },
        "id": "xk_O9RZXbKKD",
        "outputId": "74636714-6736-4fcc-e373-e752540f0079"
      },
      "execution_count": 36,
      "outputs": [
        {
          "output_type": "execute_result",
          "data": {
            "text/plain": [
              "                             text   label\n",
              "1184  Voltou já com esse sintoma.  humano\n",
              "727                     Boa noite  humano\n",
              "669                           Sim  humano\n",
              "1252                        start  humano\n",
              "1302                           Ok  humano\n",
              "1310    Será que por aqui resolve  humano\n",
              "710                      Somente*  humano\n",
              "604                            Ok  humano\n",
              "691                   ele atrasso  humano\n",
              "1487                    Boa noite  humano"
            ],
            "text/html": [
              "\n",
              "  <div id=\"df-3172b2a1-0b6c-47ad-b9db-5702e79f5418\">\n",
              "    <div class=\"colab-df-container\">\n",
              "      <div>\n",
              "<style scoped>\n",
              "    .dataframe tbody tr th:only-of-type {\n",
              "        vertical-align: middle;\n",
              "    }\n",
              "\n",
              "    .dataframe tbody tr th {\n",
              "        vertical-align: top;\n",
              "    }\n",
              "\n",
              "    .dataframe thead th {\n",
              "        text-align: right;\n",
              "    }\n",
              "</style>\n",
              "<table border=\"1\" class=\"dataframe\">\n",
              "  <thead>\n",
              "    <tr style=\"text-align: right;\">\n",
              "      <th></th>\n",
              "      <th>text</th>\n",
              "      <th>label</th>\n",
              "    </tr>\n",
              "  </thead>\n",
              "  <tbody>\n",
              "    <tr>\n",
              "      <th>1184</th>\n",
              "      <td>Voltou já com esse sintoma.</td>\n",
              "      <td>humano</td>\n",
              "    </tr>\n",
              "    <tr>\n",
              "      <th>727</th>\n",
              "      <td>Boa noite</td>\n",
              "      <td>humano</td>\n",
              "    </tr>\n",
              "    <tr>\n",
              "      <th>669</th>\n",
              "      <td>Sim</td>\n",
              "      <td>humano</td>\n",
              "    </tr>\n",
              "    <tr>\n",
              "      <th>1252</th>\n",
              "      <td>start</td>\n",
              "      <td>humano</td>\n",
              "    </tr>\n",
              "    <tr>\n",
              "      <th>1302</th>\n",
              "      <td>Ok</td>\n",
              "      <td>humano</td>\n",
              "    </tr>\n",
              "    <tr>\n",
              "      <th>1310</th>\n",
              "      <td>Será que por aqui resolve</td>\n",
              "      <td>humano</td>\n",
              "    </tr>\n",
              "    <tr>\n",
              "      <th>710</th>\n",
              "      <td>Somente*</td>\n",
              "      <td>humano</td>\n",
              "    </tr>\n",
              "    <tr>\n",
              "      <th>604</th>\n",
              "      <td>Ok</td>\n",
              "      <td>humano</td>\n",
              "    </tr>\n",
              "    <tr>\n",
              "      <th>691</th>\n",
              "      <td>ele atrasso</td>\n",
              "      <td>humano</td>\n",
              "    </tr>\n",
              "    <tr>\n",
              "      <th>1487</th>\n",
              "      <td>Boa noite</td>\n",
              "      <td>humano</td>\n",
              "    </tr>\n",
              "  </tbody>\n",
              "</table>\n",
              "</div>\n",
              "      <button class=\"colab-df-convert\" onclick=\"convertToInteractive('df-3172b2a1-0b6c-47ad-b9db-5702e79f5418')\"\n",
              "              title=\"Convert this dataframe to an interactive table.\"\n",
              "              style=\"display:none;\">\n",
              "        \n",
              "  <svg xmlns=\"http://www.w3.org/2000/svg\" height=\"24px\"viewBox=\"0 0 24 24\"\n",
              "       width=\"24px\">\n",
              "    <path d=\"M0 0h24v24H0V0z\" fill=\"none\"/>\n",
              "    <path d=\"M18.56 5.44l.94 2.06.94-2.06 2.06-.94-2.06-.94-.94-2.06-.94 2.06-2.06.94zm-11 1L8.5 8.5l.94-2.06 2.06-.94-2.06-.94L8.5 2.5l-.94 2.06-2.06.94zm10 10l.94 2.06.94-2.06 2.06-.94-2.06-.94-.94-2.06-.94 2.06-2.06.94z\"/><path d=\"M17.41 7.96l-1.37-1.37c-.4-.4-.92-.59-1.43-.59-.52 0-1.04.2-1.43.59L10.3 9.45l-7.72 7.72c-.78.78-.78 2.05 0 2.83L4 21.41c.39.39.9.59 1.41.59.51 0 1.02-.2 1.41-.59l7.78-7.78 2.81-2.81c.8-.78.8-2.07 0-2.86zM5.41 20L4 18.59l7.72-7.72 1.47 1.35L5.41 20z\"/>\n",
              "  </svg>\n",
              "      </button>\n",
              "      \n",
              "  <style>\n",
              "    .colab-df-container {\n",
              "      display:flex;\n",
              "      flex-wrap:wrap;\n",
              "      gap: 12px;\n",
              "    }\n",
              "\n",
              "    .colab-df-convert {\n",
              "      background-color: #E8F0FE;\n",
              "      border: none;\n",
              "      border-radius: 50%;\n",
              "      cursor: pointer;\n",
              "      display: none;\n",
              "      fill: #1967D2;\n",
              "      height: 32px;\n",
              "      padding: 0 0 0 0;\n",
              "      width: 32px;\n",
              "    }\n",
              "\n",
              "    .colab-df-convert:hover {\n",
              "      background-color: #E2EBFA;\n",
              "      box-shadow: 0px 1px 2px rgba(60, 64, 67, 0.3), 0px 1px 3px 1px rgba(60, 64, 67, 0.15);\n",
              "      fill: #174EA6;\n",
              "    }\n",
              "\n",
              "    [theme=dark] .colab-df-convert {\n",
              "      background-color: #3B4455;\n",
              "      fill: #D2E3FC;\n",
              "    }\n",
              "\n",
              "    [theme=dark] .colab-df-convert:hover {\n",
              "      background-color: #434B5C;\n",
              "      box-shadow: 0px 1px 3px 1px rgba(0, 0, 0, 0.15);\n",
              "      filter: drop-shadow(0px 1px 2px rgba(0, 0, 0, 0.3));\n",
              "      fill: #FFFFFF;\n",
              "    }\n",
              "  </style>\n",
              "\n",
              "      <script>\n",
              "        const buttonEl =\n",
              "          document.querySelector('#df-3172b2a1-0b6c-47ad-b9db-5702e79f5418 button.colab-df-convert');\n",
              "        buttonEl.style.display =\n",
              "          google.colab.kernel.accessAllowed ? 'block' : 'none';\n",
              "\n",
              "        async function convertToInteractive(key) {\n",
              "          const element = document.querySelector('#df-3172b2a1-0b6c-47ad-b9db-5702e79f5418');\n",
              "          const dataTable =\n",
              "            await google.colab.kernel.invokeFunction('convertToInteractive',\n",
              "                                                     [key], {});\n",
              "          if (!dataTable) return;\n",
              "\n",
              "          const docLinkHtml = 'Like what you see? Visit the ' +\n",
              "            '<a target=\"_blank\" href=https://colab.research.google.com/notebooks/data_table.ipynb>data table notebook</a>'\n",
              "            + ' to learn more about interactive tables.';\n",
              "          element.innerHTML = '';\n",
              "          dataTable['output_type'] = 'display_data';\n",
              "          await google.colab.output.renderOutput(dataTable, element);\n",
              "          const docLink = document.createElement('div');\n",
              "          docLink.innerHTML = docLinkHtml;\n",
              "          element.appendChild(docLink);\n",
              "        }\n",
              "      </script>\n",
              "    </div>\n",
              "  </div>\n",
              "  "
            ]
          },
          "metadata": {},
          "execution_count": 36
        }
      ]
    },
    {
      "cell_type": "code",
      "source": [
        "# seu código aqui"
      ],
      "metadata": {
        "id": "0W2F44_8cSXa"
      },
      "execution_count": null,
      "outputs": []
    },
    {
      "cell_type": "markdown",
      "source": [
        "---------------"
      ],
      "metadata": {
        "id": "i1lPmQX3WoeN"
      }
    },
    {
      "cell_type": "markdown",
      "source": [
        "Técnicas de processamento de texto para que a máquina consiga 'traduzir' para números e compreender. <br>\n",
        "\n",
        "* `tokenização`\n",
        "* `padronização`\n",
        "* `removeção stop-words (a, e, de, o, etc)`\n"
      ],
      "metadata": {
        "id": "GPJzAlCLJjc9"
      }
    },
    {
      "cell_type": "code",
      "source": [],
      "metadata": {
        "id": "uZOni4b_JidQ"
      },
      "execution_count": null,
      "outputs": []
    },
    {
      "cell_type": "markdown",
      "source": [
        "### 3. Vamos modelar? Criação de um modelo de classificação"
      ],
      "metadata": {
        "id": "aKCTbVAaJ99K"
      }
    },
    {
      "cell_type": "code",
      "source": [],
      "metadata": {
        "id": "QQnxVnTsKhJH"
      },
      "execution_count": null,
      "outputs": []
    },
    {
      "cell_type": "markdown",
      "source": [
        "### 4. Como saber se nosso modelo foi bem? Interpretação de métricas."
      ],
      "metadata": {
        "id": "SKFt8qHKKi_o"
      }
    },
    {
      "cell_type": "code",
      "source": [],
      "metadata": {
        "id": "xvngJQcFKoql"
      },
      "execution_count": null,
      "outputs": []
    },
    {
      "cell_type": "markdown",
      "source": [
        "###. 5. Referências"
      ],
      "metadata": {
        "id": "rgt1Q4UiNrXR"
      }
    },
    {
      "cell_type": "markdown",
      "source": [
        "* [Documentação Scikit Learn](https://scikit-learn.org/stable/)"
      ],
      "metadata": {
        "id": "kAho1jFPNvCl"
      }
    },
    {
      "cell_type": "code",
      "source": [],
      "metadata": {
        "id": "1qEz-WvuN_FU"
      },
      "execution_count": null,
      "outputs": []
    }
  ]
}