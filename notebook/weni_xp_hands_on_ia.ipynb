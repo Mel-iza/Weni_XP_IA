{
  "nbformat": 4,
  "nbformat_minor": 0,
  "metadata": {
    "colab": {
      "provenance": [],
      "collapsed_sections": [
        "dGYZgajZImz9",
        "sg8On8FKIr-R",
        "aKCTbVAaJ99K",
        "SKFt8qHKKi_o"
      ],
      "authorship_tag": "ABX9TyPrnWgJAdPQoeEDFDWAPqrM",
      "include_colab_link": true
    },
    "kernelspec": {
      "name": "python3",
      "display_name": "Python 3"
    },
    "language_info": {
      "name": "python"
    }
  },
  "cells": [
    {
      "cell_type": "markdown",
      "metadata": {
        "id": "view-in-github",
        "colab_type": "text"
      },
      "source": [
        "<a href=\"https://colab.research.google.com/github/Mel-iza/Weni_XP_IA/blob/main/notebook/weni_xp_hands_on_ia.ipynb\" target=\"_parent\"><img src=\"https://colab.research.google.com/assets/colab-badge.svg\" alt=\"Open In Colab\"/></a>"
      ]
    },
    {
      "cell_type": "markdown",
      "source": [
        "### 0. Exploração do problema"
      ],
      "metadata": {
        "id": "h9FsUBLFI4HZ"
      }
    },
    {
      "cell_type": "markdown",
      "source": [
        "<img src= \"https://user-images.githubusercontent.com/72058182/226016150-eaa9fde8-3ecf-47e8-aa7a-c6d60ea9c632.png\">"
      ],
      "metadata": {
        "id": "fPyypjOYtMhG"
      }
    },
    {
      "cell_type": "markdown",
      "source": [
        "<h3><b>Problema de negócio</b></h3> \n",
        "Como identificar se uma mensagem é de um bot ou humano? <br><br>\n",
        "Dificuldade em identificar esse caso se tratando de uma situação, tanto com contexto como sem, pode ser uma tarefa complicada. <br>\n",
        "Em alguns casos, a consequência disso pode ser: <br>\n",
        "\n",
        "* Desinformação e propagação de notícias falsas;\n",
        "* Perdas financeiras ou de recursos pessoais/humanos;\n",
        " \n"
      ],
      "metadata": {
        "id": "1VYUMMskIsGS"
      }
    },
    {
      "cell_type": "markdown",
      "source": [
        "### 1. Instalação das bibliotecas e importação dos dados \n"
      ],
      "metadata": {
        "id": "dGYZgajZImz9"
      }
    },
    {
      "cell_type": "markdown",
      "source": [
        "Instalação das bibliotecas que vamos utilizar:"
      ],
      "metadata": {
        "id": "3sSNss_6ZOeU"
      }
    },
    {
      "cell_type": "code",
      "execution_count": null,
      "metadata": {
        "id": "2V0TiwMecf8k"
      },
      "outputs": [],
      "source": [
        "# Instalação das bibliotecas necessárias\n",
        "\n",
        "!pip install pandas==1.5.3\n",
        "!pip install -U scikit-learn\n",
        "!pip install numpy==1.24.2\n",
        "!pip install scipy==1.2.1 \n",
        "!pip install Unidecode==1.3.6\n",
        "!pip install nltk==3.8.1\n",
        "!pip install spacy==3.5.0\n",
        "!python -m spacy download pt_core_news_sm"
      ]
    },
    {
      "cell_type": "markdown",
      "source": [
        "Caso você tenha algum erro com a instalação das bibliotecas, pode desinstalar executando esse código em uma célula. <br>\n",
        "\n",
        "```\n",
        "!pip uninstall scikit-learn\n",
        "!pip uninstall numpy\n",
        "!pip uninstall pandas\n",
        "!pip uninstall scipy\n",
        "```\n",
        "Em seguida, reinicie o ambiente de execução. Clique na barra de tarefas na opção `ambiente de execução` ↪ `reiniciar ambiente de execução`.\n",
        "\n",
        "Se der tudo certinho, pode ignorar esse aviso e seguir em frente ✌"
      ],
      "metadata": {
        "id": "nzu53tX693Iq"
      }
    },
    {
      "cell_type": "markdown",
      "source": [
        "<b>Importação das bibliotecas e módulos</b>"
      ],
      "metadata": {
        "id": "AsYJDohTZS-u"
      }
    },
    {
      "cell_type": "code",
      "source": [
        "# Manipulação de dados\n",
        "import pandas as pd\n",
        "import numpy as np\n",
        "import unicodedata\n",
        "import unidecode\n",
        "import re\n",
        "\n",
        "\n",
        "# Machine Learning, vetorização e métricas\n",
        "import sklearn\n",
        "from sklearn import metrics\n",
        "from sklearn.metrics import accuracy_score\n",
        "from sklearn.metrics import classification_report\n",
        "from sklearn.linear_model import LogisticRegressionCV\n",
        "\n",
        "\n",
        "# Tratamento e manipulação de texto\n",
        "import nltk\n",
        "import spacy\n",
        "import pt_core_news_sm\n",
        "from sklearn.feature_extraction.text import TfidfVectorizer,CountVectorizer\n",
        "\n",
        "import warnings\n",
        "warnings.simplefilter(\"ignore\")"
      ],
      "metadata": {
        "id": "CscFRXsGORVP",
        "outputId": "bc5e9707-6e31-443f-b1fc-9dfcb2b05606",
        "colab": {
          "base_uri": "https://localhost:8080/"
        }
      },
      "execution_count": 2,
      "outputs": [
        {
          "output_type": "stream",
          "name": "stderr",
          "text": [
            "/usr/local/lib/python3.9/dist-packages/torch/cuda/__init__.py:497: UserWarning: Can't initialize NVML\n",
            "  warnings.warn(\"Can't initialize NVML\")\n"
          ]
        }
      ]
    },
    {
      "cell_type": "markdown",
      "source": [
        "<b>Importando os dados</b>"
      ],
      "metadata": {
        "id": "nZr4lo1mZZVu"
      }
    },
    {
      "cell_type": "markdown",
      "source": [
        "1) Importando o conjunto de dados com arquivo direto na sessão do notebook.<br>\n",
        "\n",
        "<i>Clique no ícone de pasta na barra lateral esquerda do Google Colab</i>\n",
        "\n",
        "<img src= \"https://user-images.githubusercontent.com/72058182/226423528-8da8377f-5643-4e4b-8dc9-860eebe32352.png\" height=\"250px\">\n",
        "\n",
        "\n",
        "<i>Em seguida clique no ícone para fazer upload de arquivo e escolha o arquivo `train_dataset.csv` que você já fez download previamente pelo repositório ou drive.</i>\n",
        "\n",
        "<img src= \"https://user-images.githubusercontent.com/72058182/226424068-843ca16e-4248-45b8-b72e-dfe5dd15e86b.png\" height=\"220px\">\n",
        "\n",
        "<i>Em seguida, assim que o arquivo estiver carregado na sessão é só executar a célula abaixo</i>\n",
        "\n",
        "Também é possível abrir o dataset por meio do Google Colab ou o próprio Github. Fique à vontade para utilizar o meio que mais se sinta confortável.\n"
      ],
      "metadata": {
        "id": "IlqeT6dxD5qo"
      }
    },
    {
      "cell_type": "code",
      "source": [
        "# Importando o conjunto de dados com arquivo direto na sessão do notebook\n",
        "\n",
        "data =  pd.read_csv('/content/train_dataset.csv')\n",
        "data"
      ],
      "metadata": {
        "id": "y3NxN0u4Zg-j",
        "colab": {
          "base_uri": "https://localhost:8080/",
          "height": 423
        },
        "outputId": "29dd7b23-56de-4690-fcc4-f7ccfb5c0395"
      },
      "execution_count": 5,
      "outputs": [
        {
          "output_type": "execute_result",
          "data": {
            "text/plain": [
              "                                                   text    label\n",
              "0     Olá, muito prazer! Sou o seu assistente virtua...  chatbot\n",
              "1     Fechado, vamos fazer assim. Você passa os dado...  chatbot\n",
              "2     Pra adiantar, vou precisar que você me fale qu...  chatbot\n",
              "3     Humm eu não entendi, desculpa.\\n\\nDigite 1 par...  chatbot\n",
              "4     Pera só um instante que vou checar aqui se enc...  chatbot\n",
              "...                                                 ...      ...\n",
              "1537                                                 42   humano\n",
              "1538                                              start   humano\n",
              "1539                             Quais são os riscos? 😷   humano\n",
              "1540                                                Nao   humano\n",
              "1541                                                 Ok   humano\n",
              "\n",
              "[1542 rows x 2 columns]"
            ],
            "text/html": [
              "\n",
              "  <div id=\"df-36969864-fa27-4dc6-99d1-3fa871440f50\">\n",
              "    <div class=\"colab-df-container\">\n",
              "      <div>\n",
              "<style scoped>\n",
              "    .dataframe tbody tr th:only-of-type {\n",
              "        vertical-align: middle;\n",
              "    }\n",
              "\n",
              "    .dataframe tbody tr th {\n",
              "        vertical-align: top;\n",
              "    }\n",
              "\n",
              "    .dataframe thead th {\n",
              "        text-align: right;\n",
              "    }\n",
              "</style>\n",
              "<table border=\"1\" class=\"dataframe\">\n",
              "  <thead>\n",
              "    <tr style=\"text-align: right;\">\n",
              "      <th></th>\n",
              "      <th>text</th>\n",
              "      <th>label</th>\n",
              "    </tr>\n",
              "  </thead>\n",
              "  <tbody>\n",
              "    <tr>\n",
              "      <th>0</th>\n",
              "      <td>Olá, muito prazer! Sou o seu assistente virtua...</td>\n",
              "      <td>chatbot</td>\n",
              "    </tr>\n",
              "    <tr>\n",
              "      <th>1</th>\n",
              "      <td>Fechado, vamos fazer assim. Você passa os dado...</td>\n",
              "      <td>chatbot</td>\n",
              "    </tr>\n",
              "    <tr>\n",
              "      <th>2</th>\n",
              "      <td>Pra adiantar, vou precisar que você me fale qu...</td>\n",
              "      <td>chatbot</td>\n",
              "    </tr>\n",
              "    <tr>\n",
              "      <th>3</th>\n",
              "      <td>Humm eu não entendi, desculpa.\\n\\nDigite 1 par...</td>\n",
              "      <td>chatbot</td>\n",
              "    </tr>\n",
              "    <tr>\n",
              "      <th>4</th>\n",
              "      <td>Pera só um instante que vou checar aqui se enc...</td>\n",
              "      <td>chatbot</td>\n",
              "    </tr>\n",
              "    <tr>\n",
              "      <th>...</th>\n",
              "      <td>...</td>\n",
              "      <td>...</td>\n",
              "    </tr>\n",
              "    <tr>\n",
              "      <th>1537</th>\n",
              "      <td>42</td>\n",
              "      <td>humano</td>\n",
              "    </tr>\n",
              "    <tr>\n",
              "      <th>1538</th>\n",
              "      <td>start</td>\n",
              "      <td>humano</td>\n",
              "    </tr>\n",
              "    <tr>\n",
              "      <th>1539</th>\n",
              "      <td>Quais são os riscos? 😷</td>\n",
              "      <td>humano</td>\n",
              "    </tr>\n",
              "    <tr>\n",
              "      <th>1540</th>\n",
              "      <td>Nao</td>\n",
              "      <td>humano</td>\n",
              "    </tr>\n",
              "    <tr>\n",
              "      <th>1541</th>\n",
              "      <td>Ok</td>\n",
              "      <td>humano</td>\n",
              "    </tr>\n",
              "  </tbody>\n",
              "</table>\n",
              "<p>1542 rows × 2 columns</p>\n",
              "</div>\n",
              "      <button class=\"colab-df-convert\" onclick=\"convertToInteractive('df-36969864-fa27-4dc6-99d1-3fa871440f50')\"\n",
              "              title=\"Convert this dataframe to an interactive table.\"\n",
              "              style=\"display:none;\">\n",
              "        \n",
              "  <svg xmlns=\"http://www.w3.org/2000/svg\" height=\"24px\"viewBox=\"0 0 24 24\"\n",
              "       width=\"24px\">\n",
              "    <path d=\"M0 0h24v24H0V0z\" fill=\"none\"/>\n",
              "    <path d=\"M18.56 5.44l.94 2.06.94-2.06 2.06-.94-2.06-.94-.94-2.06-.94 2.06-2.06.94zm-11 1L8.5 8.5l.94-2.06 2.06-.94-2.06-.94L8.5 2.5l-.94 2.06-2.06.94zm10 10l.94 2.06.94-2.06 2.06-.94-2.06-.94-.94-2.06-.94 2.06-2.06.94z\"/><path d=\"M17.41 7.96l-1.37-1.37c-.4-.4-.92-.59-1.43-.59-.52 0-1.04.2-1.43.59L10.3 9.45l-7.72 7.72c-.78.78-.78 2.05 0 2.83L4 21.41c.39.39.9.59 1.41.59.51 0 1.02-.2 1.41-.59l7.78-7.78 2.81-2.81c.8-.78.8-2.07 0-2.86zM5.41 20L4 18.59l7.72-7.72 1.47 1.35L5.41 20z\"/>\n",
              "  </svg>\n",
              "      </button>\n",
              "      \n",
              "  <style>\n",
              "    .colab-df-container {\n",
              "      display:flex;\n",
              "      flex-wrap:wrap;\n",
              "      gap: 12px;\n",
              "    }\n",
              "\n",
              "    .colab-df-convert {\n",
              "      background-color: #E8F0FE;\n",
              "      border: none;\n",
              "      border-radius: 50%;\n",
              "      cursor: pointer;\n",
              "      display: none;\n",
              "      fill: #1967D2;\n",
              "      height: 32px;\n",
              "      padding: 0 0 0 0;\n",
              "      width: 32px;\n",
              "    }\n",
              "\n",
              "    .colab-df-convert:hover {\n",
              "      background-color: #E2EBFA;\n",
              "      box-shadow: 0px 1px 2px rgba(60, 64, 67, 0.3), 0px 1px 3px 1px rgba(60, 64, 67, 0.15);\n",
              "      fill: #174EA6;\n",
              "    }\n",
              "\n",
              "    [theme=dark] .colab-df-convert {\n",
              "      background-color: #3B4455;\n",
              "      fill: #D2E3FC;\n",
              "    }\n",
              "\n",
              "    [theme=dark] .colab-df-convert:hover {\n",
              "      background-color: #434B5C;\n",
              "      box-shadow: 0px 1px 3px 1px rgba(0, 0, 0, 0.15);\n",
              "      filter: drop-shadow(0px 1px 2px rgba(0, 0, 0, 0.3));\n",
              "      fill: #FFFFFF;\n",
              "    }\n",
              "  </style>\n",
              "\n",
              "      <script>\n",
              "        const buttonEl =\n",
              "          document.querySelector('#df-36969864-fa27-4dc6-99d1-3fa871440f50 button.colab-df-convert');\n",
              "        buttonEl.style.display =\n",
              "          google.colab.kernel.accessAllowed ? 'block' : 'none';\n",
              "\n",
              "        async function convertToInteractive(key) {\n",
              "          const element = document.querySelector('#df-36969864-fa27-4dc6-99d1-3fa871440f50');\n",
              "          const dataTable =\n",
              "            await google.colab.kernel.invokeFunction('convertToInteractive',\n",
              "                                                     [key], {});\n",
              "          if (!dataTable) return;\n",
              "\n",
              "          const docLinkHtml = 'Like what you see? Visit the ' +\n",
              "            '<a target=\"_blank\" href=https://colab.research.google.com/notebooks/data_table.ipynb>data table notebook</a>'\n",
              "            + ' to learn more about interactive tables.';\n",
              "          element.innerHTML = '';\n",
              "          dataTable['output_type'] = 'display_data';\n",
              "          await google.colab.output.renderOutput(dataTable, element);\n",
              "          const docLink = document.createElement('div');\n",
              "          docLink.innerHTML = docLinkHtml;\n",
              "          element.appendChild(docLink);\n",
              "        }\n",
              "      </script>\n",
              "    </div>\n",
              "  </div>\n",
              "  "
            ]
          },
          "metadata": {},
          "execution_count": 5
        }
      ]
    },
    {
      "cell_type": "markdown",
      "source": [
        "----------------"
      ],
      "metadata": {
        "id": "tiNdK2SxZg5d"
      }
    },
    {
      "cell_type": "markdown",
      "source": [
        "### 2. Conhecer e pré-processar os dados\n"
      ],
      "metadata": {
        "id": "sg8On8FKIr-R"
      }
    },
    {
      "cell_type": "markdown",
      "source": [
        "Conferindo algumas informações básicas sobre o conjunto de dados.<br>\n",
        "\n",
        "<i>Com o método `info()` é possível saber várias informações sobre o nosso conjunto de dados: quantidade de colunas, linhas, tipos de cada um, quantidade de dados nulos, uso de memória entre outros. E com o `shape` conseguimos ver a quantidade de linhas e colunas </i>"
      ],
      "metadata": {
        "id": "t8SJPyNXVLaj"
      }
    },
    {
      "cell_type": "code",
      "source": [
        "# Mostrando algumas informações básicas do conjunto de dados\n",
        "\n",
        "print('linhas e colunas: ', data.shape)\n",
        "print('\\n')\n",
        "data.info()"
      ],
      "metadata": {
        "id": "hb6cxLz3VQnD",
        "colab": {
          "base_uri": "https://localhost:8080/"
        },
        "outputId": "54349c7a-8d78-4f0f-e507-1f67f2fc3d3c"
      },
      "execution_count": 6,
      "outputs": [
        {
          "output_type": "stream",
          "name": "stdout",
          "text": [
            "linhas e colunas:  (1542, 2)\n",
            "\n",
            "\n",
            "<class 'pandas.core.frame.DataFrame'>\n",
            "RangeIndex: 1542 entries, 0 to 1541\n",
            "Data columns (total 2 columns):\n",
            " #   Column  Non-Null Count  Dtype \n",
            "---  ------  --------------  ----- \n",
            " 0   text    1542 non-null   object\n",
            " 1   label   1542 non-null   object\n",
            "dtypes: object(2)\n",
            "memory usage: 24.2+ KB\n"
          ]
        }
      ]
    },
    {
      "cell_type": "markdown",
      "source": [
        "Conferindo algumas linhas do conjunto de dados:\n",
        "- primeiras linhas\n",
        "- linhas escolhidas aleatoriamente"
      ],
      "metadata": {
        "id": "skxiOUztbyqp"
      }
    },
    {
      "cell_type": "code",
      "source": [
        "# Mostrando as primeiras linhas do conjunto de dados\n",
        "\n",
        "data.head()"
      ],
      "metadata": {
        "id": "2HpjMAqCbfgB",
        "colab": {
          "base_uri": "https://localhost:8080/",
          "height": 206
        },
        "outputId": "9075a23f-3e92-4555-b12a-f02777e042a2"
      },
      "execution_count": 7,
      "outputs": [
        {
          "output_type": "execute_result",
          "data": {
            "text/plain": [
              "                                                text    label\n",
              "0  Olá, muito prazer! Sou o seu assistente virtua...  chatbot\n",
              "1  Fechado, vamos fazer assim. Você passa os dado...  chatbot\n",
              "2  Pra adiantar, vou precisar que você me fale qu...  chatbot\n",
              "3  Humm eu não entendi, desculpa.\\n\\nDigite 1 par...  chatbot\n",
              "4  Pera só um instante que vou checar aqui se enc...  chatbot"
            ],
            "text/html": [
              "\n",
              "  <div id=\"df-10775604-3afd-46b9-93b2-47a67f642432\">\n",
              "    <div class=\"colab-df-container\">\n",
              "      <div>\n",
              "<style scoped>\n",
              "    .dataframe tbody tr th:only-of-type {\n",
              "        vertical-align: middle;\n",
              "    }\n",
              "\n",
              "    .dataframe tbody tr th {\n",
              "        vertical-align: top;\n",
              "    }\n",
              "\n",
              "    .dataframe thead th {\n",
              "        text-align: right;\n",
              "    }\n",
              "</style>\n",
              "<table border=\"1\" class=\"dataframe\">\n",
              "  <thead>\n",
              "    <tr style=\"text-align: right;\">\n",
              "      <th></th>\n",
              "      <th>text</th>\n",
              "      <th>label</th>\n",
              "    </tr>\n",
              "  </thead>\n",
              "  <tbody>\n",
              "    <tr>\n",
              "      <th>0</th>\n",
              "      <td>Olá, muito prazer! Sou o seu assistente virtua...</td>\n",
              "      <td>chatbot</td>\n",
              "    </tr>\n",
              "    <tr>\n",
              "      <th>1</th>\n",
              "      <td>Fechado, vamos fazer assim. Você passa os dado...</td>\n",
              "      <td>chatbot</td>\n",
              "    </tr>\n",
              "    <tr>\n",
              "      <th>2</th>\n",
              "      <td>Pra adiantar, vou precisar que você me fale qu...</td>\n",
              "      <td>chatbot</td>\n",
              "    </tr>\n",
              "    <tr>\n",
              "      <th>3</th>\n",
              "      <td>Humm eu não entendi, desculpa.\\n\\nDigite 1 par...</td>\n",
              "      <td>chatbot</td>\n",
              "    </tr>\n",
              "    <tr>\n",
              "      <th>4</th>\n",
              "      <td>Pera só um instante que vou checar aqui se enc...</td>\n",
              "      <td>chatbot</td>\n",
              "    </tr>\n",
              "  </tbody>\n",
              "</table>\n",
              "</div>\n",
              "      <button class=\"colab-df-convert\" onclick=\"convertToInteractive('df-10775604-3afd-46b9-93b2-47a67f642432')\"\n",
              "              title=\"Convert this dataframe to an interactive table.\"\n",
              "              style=\"display:none;\">\n",
              "        \n",
              "  <svg xmlns=\"http://www.w3.org/2000/svg\" height=\"24px\"viewBox=\"0 0 24 24\"\n",
              "       width=\"24px\">\n",
              "    <path d=\"M0 0h24v24H0V0z\" fill=\"none\"/>\n",
              "    <path d=\"M18.56 5.44l.94 2.06.94-2.06 2.06-.94-2.06-.94-.94-2.06-.94 2.06-2.06.94zm-11 1L8.5 8.5l.94-2.06 2.06-.94-2.06-.94L8.5 2.5l-.94 2.06-2.06.94zm10 10l.94 2.06.94-2.06 2.06-.94-2.06-.94-.94-2.06-.94 2.06-2.06.94z\"/><path d=\"M17.41 7.96l-1.37-1.37c-.4-.4-.92-.59-1.43-.59-.52 0-1.04.2-1.43.59L10.3 9.45l-7.72 7.72c-.78.78-.78 2.05 0 2.83L4 21.41c.39.39.9.59 1.41.59.51 0 1.02-.2 1.41-.59l7.78-7.78 2.81-2.81c.8-.78.8-2.07 0-2.86zM5.41 20L4 18.59l7.72-7.72 1.47 1.35L5.41 20z\"/>\n",
              "  </svg>\n",
              "      </button>\n",
              "      \n",
              "  <style>\n",
              "    .colab-df-container {\n",
              "      display:flex;\n",
              "      flex-wrap:wrap;\n",
              "      gap: 12px;\n",
              "    }\n",
              "\n",
              "    .colab-df-convert {\n",
              "      background-color: #E8F0FE;\n",
              "      border: none;\n",
              "      border-radius: 50%;\n",
              "      cursor: pointer;\n",
              "      display: none;\n",
              "      fill: #1967D2;\n",
              "      height: 32px;\n",
              "      padding: 0 0 0 0;\n",
              "      width: 32px;\n",
              "    }\n",
              "\n",
              "    .colab-df-convert:hover {\n",
              "      background-color: #E2EBFA;\n",
              "      box-shadow: 0px 1px 2px rgba(60, 64, 67, 0.3), 0px 1px 3px 1px rgba(60, 64, 67, 0.15);\n",
              "      fill: #174EA6;\n",
              "    }\n",
              "\n",
              "    [theme=dark] .colab-df-convert {\n",
              "      background-color: #3B4455;\n",
              "      fill: #D2E3FC;\n",
              "    }\n",
              "\n",
              "    [theme=dark] .colab-df-convert:hover {\n",
              "      background-color: #434B5C;\n",
              "      box-shadow: 0px 1px 3px 1px rgba(0, 0, 0, 0.15);\n",
              "      filter: drop-shadow(0px 1px 2px rgba(0, 0, 0, 0.3));\n",
              "      fill: #FFFFFF;\n",
              "    }\n",
              "  </style>\n",
              "\n",
              "      <script>\n",
              "        const buttonEl =\n",
              "          document.querySelector('#df-10775604-3afd-46b9-93b2-47a67f642432 button.colab-df-convert');\n",
              "        buttonEl.style.display =\n",
              "          google.colab.kernel.accessAllowed ? 'block' : 'none';\n",
              "\n",
              "        async function convertToInteractive(key) {\n",
              "          const element = document.querySelector('#df-10775604-3afd-46b9-93b2-47a67f642432');\n",
              "          const dataTable =\n",
              "            await google.colab.kernel.invokeFunction('convertToInteractive',\n",
              "                                                     [key], {});\n",
              "          if (!dataTable) return;\n",
              "\n",
              "          const docLinkHtml = 'Like what you see? Visit the ' +\n",
              "            '<a target=\"_blank\" href=https://colab.research.google.com/notebooks/data_table.ipynb>data table notebook</a>'\n",
              "            + ' to learn more about interactive tables.';\n",
              "          element.innerHTML = '';\n",
              "          dataTable['output_type'] = 'display_data';\n",
              "          await google.colab.output.renderOutput(dataTable, element);\n",
              "          const docLink = document.createElement('div');\n",
              "          docLink.innerHTML = docLinkHtml;\n",
              "          element.appendChild(docLink);\n",
              "        }\n",
              "      </script>\n",
              "    </div>\n",
              "  </div>\n",
              "  "
            ]
          },
          "metadata": {},
          "execution_count": 7
        }
      ]
    },
    {
      "cell_type": "code",
      "source": [
        "# Mostrando algumas linhas do conjunto de dados de forma aleatoria\n",
        "\n",
        "data.sample(10)"
      ],
      "metadata": {
        "id": "0W2F44_8cSXa",
        "colab": {
          "base_uri": "https://localhost:8080/",
          "height": 363
        },
        "outputId": "3b10342a-cafb-43eb-b6d5-e759c1ffb33b"
      },
      "execution_count": 8,
      "outputs": [
        {
          "output_type": "execute_result",
          "data": {
            "text/plain": [
              "                                                   text    label\n",
              "1479                                               Isso   humano\n",
              "1427                                              start   humano\n",
              "775                                               Certo   humano\n",
              "1116                                                 Ou   humano\n",
              "1014                                        Sim aparece   humano\n",
              "728                           tenho chance de ter pego?   humano\n",
              "913                                                   1   humano\n",
              "1495                                                Sim   humano\n",
              "717                                       Acho que esse   humano\n",
              "64    Victor, deseja realizar a autoavaliação do nov...  chatbot"
            ],
            "text/html": [
              "\n",
              "  <div id=\"df-009f3338-3e32-4b95-bef5-77bb7de0a6d1\">\n",
              "    <div class=\"colab-df-container\">\n",
              "      <div>\n",
              "<style scoped>\n",
              "    .dataframe tbody tr th:only-of-type {\n",
              "        vertical-align: middle;\n",
              "    }\n",
              "\n",
              "    .dataframe tbody tr th {\n",
              "        vertical-align: top;\n",
              "    }\n",
              "\n",
              "    .dataframe thead th {\n",
              "        text-align: right;\n",
              "    }\n",
              "</style>\n",
              "<table border=\"1\" class=\"dataframe\">\n",
              "  <thead>\n",
              "    <tr style=\"text-align: right;\">\n",
              "      <th></th>\n",
              "      <th>text</th>\n",
              "      <th>label</th>\n",
              "    </tr>\n",
              "  </thead>\n",
              "  <tbody>\n",
              "    <tr>\n",
              "      <th>1479</th>\n",
              "      <td>Isso</td>\n",
              "      <td>humano</td>\n",
              "    </tr>\n",
              "    <tr>\n",
              "      <th>1427</th>\n",
              "      <td>start</td>\n",
              "      <td>humano</td>\n",
              "    </tr>\n",
              "    <tr>\n",
              "      <th>775</th>\n",
              "      <td>Certo</td>\n",
              "      <td>humano</td>\n",
              "    </tr>\n",
              "    <tr>\n",
              "      <th>1116</th>\n",
              "      <td>Ou</td>\n",
              "      <td>humano</td>\n",
              "    </tr>\n",
              "    <tr>\n",
              "      <th>1014</th>\n",
              "      <td>Sim aparece</td>\n",
              "      <td>humano</td>\n",
              "    </tr>\n",
              "    <tr>\n",
              "      <th>728</th>\n",
              "      <td>tenho chance de ter pego?</td>\n",
              "      <td>humano</td>\n",
              "    </tr>\n",
              "    <tr>\n",
              "      <th>913</th>\n",
              "      <td>1</td>\n",
              "      <td>humano</td>\n",
              "    </tr>\n",
              "    <tr>\n",
              "      <th>1495</th>\n",
              "      <td>Sim</td>\n",
              "      <td>humano</td>\n",
              "    </tr>\n",
              "    <tr>\n",
              "      <th>717</th>\n",
              "      <td>Acho que esse</td>\n",
              "      <td>humano</td>\n",
              "    </tr>\n",
              "    <tr>\n",
              "      <th>64</th>\n",
              "      <td>Victor, deseja realizar a autoavaliação do nov...</td>\n",
              "      <td>chatbot</td>\n",
              "    </tr>\n",
              "  </tbody>\n",
              "</table>\n",
              "</div>\n",
              "      <button class=\"colab-df-convert\" onclick=\"convertToInteractive('df-009f3338-3e32-4b95-bef5-77bb7de0a6d1')\"\n",
              "              title=\"Convert this dataframe to an interactive table.\"\n",
              "              style=\"display:none;\">\n",
              "        \n",
              "  <svg xmlns=\"http://www.w3.org/2000/svg\" height=\"24px\"viewBox=\"0 0 24 24\"\n",
              "       width=\"24px\">\n",
              "    <path d=\"M0 0h24v24H0V0z\" fill=\"none\"/>\n",
              "    <path d=\"M18.56 5.44l.94 2.06.94-2.06 2.06-.94-2.06-.94-.94-2.06-.94 2.06-2.06.94zm-11 1L8.5 8.5l.94-2.06 2.06-.94-2.06-.94L8.5 2.5l-.94 2.06-2.06.94zm10 10l.94 2.06.94-2.06 2.06-.94-2.06-.94-.94-2.06-.94 2.06-2.06.94z\"/><path d=\"M17.41 7.96l-1.37-1.37c-.4-.4-.92-.59-1.43-.59-.52 0-1.04.2-1.43.59L10.3 9.45l-7.72 7.72c-.78.78-.78 2.05 0 2.83L4 21.41c.39.39.9.59 1.41.59.51 0 1.02-.2 1.41-.59l7.78-7.78 2.81-2.81c.8-.78.8-2.07 0-2.86zM5.41 20L4 18.59l7.72-7.72 1.47 1.35L5.41 20z\"/>\n",
              "  </svg>\n",
              "      </button>\n",
              "      \n",
              "  <style>\n",
              "    .colab-df-container {\n",
              "      display:flex;\n",
              "      flex-wrap:wrap;\n",
              "      gap: 12px;\n",
              "    }\n",
              "\n",
              "    .colab-df-convert {\n",
              "      background-color: #E8F0FE;\n",
              "      border: none;\n",
              "      border-radius: 50%;\n",
              "      cursor: pointer;\n",
              "      display: none;\n",
              "      fill: #1967D2;\n",
              "      height: 32px;\n",
              "      padding: 0 0 0 0;\n",
              "      width: 32px;\n",
              "    }\n",
              "\n",
              "    .colab-df-convert:hover {\n",
              "      background-color: #E2EBFA;\n",
              "      box-shadow: 0px 1px 2px rgba(60, 64, 67, 0.3), 0px 1px 3px 1px rgba(60, 64, 67, 0.15);\n",
              "      fill: #174EA6;\n",
              "    }\n",
              "\n",
              "    [theme=dark] .colab-df-convert {\n",
              "      background-color: #3B4455;\n",
              "      fill: #D2E3FC;\n",
              "    }\n",
              "\n",
              "    [theme=dark] .colab-df-convert:hover {\n",
              "      background-color: #434B5C;\n",
              "      box-shadow: 0px 1px 3px 1px rgba(0, 0, 0, 0.15);\n",
              "      filter: drop-shadow(0px 1px 2px rgba(0, 0, 0, 0.3));\n",
              "      fill: #FFFFFF;\n",
              "    }\n",
              "  </style>\n",
              "\n",
              "      <script>\n",
              "        const buttonEl =\n",
              "          document.querySelector('#df-009f3338-3e32-4b95-bef5-77bb7de0a6d1 button.colab-df-convert');\n",
              "        buttonEl.style.display =\n",
              "          google.colab.kernel.accessAllowed ? 'block' : 'none';\n",
              "\n",
              "        async function convertToInteractive(key) {\n",
              "          const element = document.querySelector('#df-009f3338-3e32-4b95-bef5-77bb7de0a6d1');\n",
              "          const dataTable =\n",
              "            await google.colab.kernel.invokeFunction('convertToInteractive',\n",
              "                                                     [key], {});\n",
              "          if (!dataTable) return;\n",
              "\n",
              "          const docLinkHtml = 'Like what you see? Visit the ' +\n",
              "            '<a target=\"_blank\" href=https://colab.research.google.com/notebooks/data_table.ipynb>data table notebook</a>'\n",
              "            + ' to learn more about interactive tables.';\n",
              "          element.innerHTML = '';\n",
              "          dataTable['output_type'] = 'display_data';\n",
              "          await google.colab.output.renderOutput(dataTable, element);\n",
              "          const docLink = document.createElement('div');\n",
              "          docLink.innerHTML = docLinkHtml;\n",
              "          element.appendChild(docLink);\n",
              "        }\n",
              "      </script>\n",
              "    </div>\n",
              "  </div>\n",
              "  "
            ]
          },
          "metadata": {},
          "execution_count": 8
        }
      ]
    },
    {
      "cell_type": "markdown",
      "source": [
        "Vamos verificar a quantidade de dados nulos presente no conjunto de dados?\n"
      ],
      "metadata": {
        "id": "ltBFC24YmwHf"
      }
    },
    {
      "cell_type": "code",
      "source": [
        "# Quantidade de dados nulos\n",
        "\n",
        "data.isnull().sum()"
      ],
      "metadata": {
        "id": "fLvV_zPtm1fL",
        "colab": {
          "base_uri": "https://localhost:8080/"
        },
        "outputId": "6efe5751-4f19-4398-9b25-4417d8c710eb"
      },
      "execution_count": 10,
      "outputs": [
        {
          "output_type": "execute_result",
          "data": {
            "text/plain": [
              "text     0\n",
              "label    0\n",
              "dtype: int64"
            ]
          },
          "metadata": {},
          "execution_count": 10
        }
      ]
    },
    {
      "cell_type": "markdown",
      "source": [
        "---------------"
      ],
      "metadata": {
        "id": "i1lPmQX3WoeN"
      }
    },
    {
      "cell_type": "markdown",
      "source": [
        "E agora, como fazer com que a máquina consiga compreender esses textos? Vamos começar pelas técnicas de <b>pré-processamento</b>. <br>\n",
        "\n",
        "* `padronização do texto`\n",
        "* `removeção stop-words (a, e, de, o, etc)`\n",
        "* `tokenização`"
      ],
      "metadata": {
        "id": "GPJzAlCLJjc9"
      }
    },
    {
      "cell_type": "markdown",
      "source": [
        "<i>Padronização, remoção de stop-words e vetorização</i>"
      ],
      "metadata": {
        "id": "S3jvuHqdU40U"
      }
    },
    {
      "cell_type": "code",
      "source": [
        "# Função para remover acentos e números\n",
        "\n",
        "def remover_acentos_e_numeros(txt):\n",
        "    nfkd = unicodedata.normalize('NFKD', txt)\n",
        "    palavraSemAcento = u\"\".join([c for c in nfkd if not unicodedata.combining(c)])\n",
        "    palavraSemAcento = re.sub(r\"(@[A-Za]+)|([^A-Za-z \\t])|(\\w+:\\/\\/\\S+)| ^rt|http.+?\",\"\", palavraSemAcento)\n",
        "    palavraSemAcento = str(palavraSemAcento).lower()\n",
        "    palavraSemAcento = re.sub(r\"\\d+\", \"\", palavraSemAcento)\n",
        "    palavraSemAcento = re.sub(r'  ', ' ', palavraSemAcento)\n",
        "    palavraSemAcento = re.sub(r'compartilheversao para impressao comentarios',' ',\n",
        "                                palavraSemAcento)\n",
        "    return palavraSemAcento"
      ],
      "metadata": {
        "id": "GYKVhBl1qsbo"
      },
      "execution_count": 11,
      "outputs": []
    },
    {
      "cell_type": "code",
      "source": [
        "# Aplicando a função para padronização em uma nova coluna. Observe a diferença das colunas 'text' e 'texto_padronizado'.\n",
        "\n",
        "data['texto_padronizado'] = [remover_acentos_e_numeros(i) for i in data['text']]\n",
        "data.head()"
      ],
      "metadata": {
        "colab": {
          "base_uri": "https://localhost:8080/",
          "height": 363
        },
        "id": "bnjErRjgjnXa",
        "outputId": "c0a255dd-cb2a-419f-ef3c-4bb50d9d7af7"
      },
      "execution_count": 12,
      "outputs": [
        {
          "output_type": "execute_result",
          "data": {
            "text/plain": [
              "                                                text    label  \\\n",
              "0  Olá, muito prazer! Sou o seu assistente virtua...  chatbot   \n",
              "1  Fechado, vamos fazer assim. Você passa os dado...  chatbot   \n",
              "2  Pra adiantar, vou precisar que você me fale qu...  chatbot   \n",
              "3  Humm eu não entendi, desculpa.\\n\\nDigite 1 par...  chatbot   \n",
              "4  Pera só um instante que vou checar aqui se enc...  chatbot   \n",
              "5  Você tem algum desses problemas de saúde?\\n\\n1...  chatbot   \n",
              "6  Infelizmente eu não consegui te entender. Você...  chatbot   \n",
              "7                          Qual o seu primeiro nome?  chatbot   \n",
              "8           Você não possui nenhum pedido em aberto!  chatbot   \n",
              "9  Você está com algum dos sintomas abaixo?\\n\\n1....  chatbot   \n",
              "\n",
              "                                   texto_padronizado  \n",
              "0  ola muito prazer sou o seu assistente virtual ...  \n",
              "1  fechado vamos fazer assim voce passa os dados ...  \n",
              "2  pra adiantar vou precisar que voce me fale qua...  \n",
              "3  humm eu nao entendi desculpadigite para falar ...  \n",
              "4  pera so um instante que vou checar aqui se enc...  \n",
              "5  voce tem algum desses problemas de saude diabe...  \n",
              "6  infelizmente eu nao consegui te entender voce ...  \n",
              "7                           qual o seu primeiro nome  \n",
              "8            voce nao possui nenhum pedido em aberto  \n",
              "9  voce esta com algum dos sintomas abaixo febre ...  "
            ],
            "text/html": [
              "\n",
              "  <div id=\"df-23b043a8-7220-4600-89da-6d876f8b9478\">\n",
              "    <div class=\"colab-df-container\">\n",
              "      <div>\n",
              "<style scoped>\n",
              "    .dataframe tbody tr th:only-of-type {\n",
              "        vertical-align: middle;\n",
              "    }\n",
              "\n",
              "    .dataframe tbody tr th {\n",
              "        vertical-align: top;\n",
              "    }\n",
              "\n",
              "    .dataframe thead th {\n",
              "        text-align: right;\n",
              "    }\n",
              "</style>\n",
              "<table border=\"1\" class=\"dataframe\">\n",
              "  <thead>\n",
              "    <tr style=\"text-align: right;\">\n",
              "      <th></th>\n",
              "      <th>text</th>\n",
              "      <th>label</th>\n",
              "      <th>texto_padronizado</th>\n",
              "    </tr>\n",
              "  </thead>\n",
              "  <tbody>\n",
              "    <tr>\n",
              "      <th>0</th>\n",
              "      <td>Olá, muito prazer! Sou o seu assistente virtua...</td>\n",
              "      <td>chatbot</td>\n",
              "      <td>ola muito prazer sou o seu assistente virtual ...</td>\n",
              "    </tr>\n",
              "    <tr>\n",
              "      <th>1</th>\n",
              "      <td>Fechado, vamos fazer assim. Você passa os dado...</td>\n",
              "      <td>chatbot</td>\n",
              "      <td>fechado vamos fazer assim voce passa os dados ...</td>\n",
              "    </tr>\n",
              "    <tr>\n",
              "      <th>2</th>\n",
              "      <td>Pra adiantar, vou precisar que você me fale qu...</td>\n",
              "      <td>chatbot</td>\n",
              "      <td>pra adiantar vou precisar que voce me fale qua...</td>\n",
              "    </tr>\n",
              "    <tr>\n",
              "      <th>3</th>\n",
              "      <td>Humm eu não entendi, desculpa.\\n\\nDigite 1 par...</td>\n",
              "      <td>chatbot</td>\n",
              "      <td>humm eu nao entendi desculpadigite para falar ...</td>\n",
              "    </tr>\n",
              "    <tr>\n",
              "      <th>4</th>\n",
              "      <td>Pera só um instante que vou checar aqui se enc...</td>\n",
              "      <td>chatbot</td>\n",
              "      <td>pera so um instante que vou checar aqui se enc...</td>\n",
              "    </tr>\n",
              "    <tr>\n",
              "      <th>5</th>\n",
              "      <td>Você tem algum desses problemas de saúde?\\n\\n1...</td>\n",
              "      <td>chatbot</td>\n",
              "      <td>voce tem algum desses problemas de saude diabe...</td>\n",
              "    </tr>\n",
              "    <tr>\n",
              "      <th>6</th>\n",
              "      <td>Infelizmente eu não consegui te entender. Você...</td>\n",
              "      <td>chatbot</td>\n",
              "      <td>infelizmente eu nao consegui te entender voce ...</td>\n",
              "    </tr>\n",
              "    <tr>\n",
              "      <th>7</th>\n",
              "      <td>Qual o seu primeiro nome?</td>\n",
              "      <td>chatbot</td>\n",
              "      <td>qual o seu primeiro nome</td>\n",
              "    </tr>\n",
              "    <tr>\n",
              "      <th>8</th>\n",
              "      <td>Você não possui nenhum pedido em aberto!</td>\n",
              "      <td>chatbot</td>\n",
              "      <td>voce nao possui nenhum pedido em aberto</td>\n",
              "    </tr>\n",
              "    <tr>\n",
              "      <th>9</th>\n",
              "      <td>Você está com algum dos sintomas abaixo?\\n\\n1....</td>\n",
              "      <td>chatbot</td>\n",
              "      <td>voce esta com algum dos sintomas abaixo febre ...</td>\n",
              "    </tr>\n",
              "  </tbody>\n",
              "</table>\n",
              "</div>\n",
              "      <button class=\"colab-df-convert\" onclick=\"convertToInteractive('df-23b043a8-7220-4600-89da-6d876f8b9478')\"\n",
              "              title=\"Convert this dataframe to an interactive table.\"\n",
              "              style=\"display:none;\">\n",
              "        \n",
              "  <svg xmlns=\"http://www.w3.org/2000/svg\" height=\"24px\"viewBox=\"0 0 24 24\"\n",
              "       width=\"24px\">\n",
              "    <path d=\"M0 0h24v24H0V0z\" fill=\"none\"/>\n",
              "    <path d=\"M18.56 5.44l.94 2.06.94-2.06 2.06-.94-2.06-.94-.94-2.06-.94 2.06-2.06.94zm-11 1L8.5 8.5l.94-2.06 2.06-.94-2.06-.94L8.5 2.5l-.94 2.06-2.06.94zm10 10l.94 2.06.94-2.06 2.06-.94-2.06-.94-.94-2.06-.94 2.06-2.06.94z\"/><path d=\"M17.41 7.96l-1.37-1.37c-.4-.4-.92-.59-1.43-.59-.52 0-1.04.2-1.43.59L10.3 9.45l-7.72 7.72c-.78.78-.78 2.05 0 2.83L4 21.41c.39.39.9.59 1.41.59.51 0 1.02-.2 1.41-.59l7.78-7.78 2.81-2.81c.8-.78.8-2.07 0-2.86zM5.41 20L4 18.59l7.72-7.72 1.47 1.35L5.41 20z\"/>\n",
              "  </svg>\n",
              "      </button>\n",
              "      \n",
              "  <style>\n",
              "    .colab-df-container {\n",
              "      display:flex;\n",
              "      flex-wrap:wrap;\n",
              "      gap: 12px;\n",
              "    }\n",
              "\n",
              "    .colab-df-convert {\n",
              "      background-color: #E8F0FE;\n",
              "      border: none;\n",
              "      border-radius: 50%;\n",
              "      cursor: pointer;\n",
              "      display: none;\n",
              "      fill: #1967D2;\n",
              "      height: 32px;\n",
              "      padding: 0 0 0 0;\n",
              "      width: 32px;\n",
              "    }\n",
              "\n",
              "    .colab-df-convert:hover {\n",
              "      background-color: #E2EBFA;\n",
              "      box-shadow: 0px 1px 2px rgba(60, 64, 67, 0.3), 0px 1px 3px 1px rgba(60, 64, 67, 0.15);\n",
              "      fill: #174EA6;\n",
              "    }\n",
              "\n",
              "    [theme=dark] .colab-df-convert {\n",
              "      background-color: #3B4455;\n",
              "      fill: #D2E3FC;\n",
              "    }\n",
              "\n",
              "    [theme=dark] .colab-df-convert:hover {\n",
              "      background-color: #434B5C;\n",
              "      box-shadow: 0px 1px 3px 1px rgba(0, 0, 0, 0.15);\n",
              "      filter: drop-shadow(0px 1px 2px rgba(0, 0, 0, 0.3));\n",
              "      fill: #FFFFFF;\n",
              "    }\n",
              "  </style>\n",
              "\n",
              "      <script>\n",
              "        const buttonEl =\n",
              "          document.querySelector('#df-23b043a8-7220-4600-89da-6d876f8b9478 button.colab-df-convert');\n",
              "        buttonEl.style.display =\n",
              "          google.colab.kernel.accessAllowed ? 'block' : 'none';\n",
              "\n",
              "        async function convertToInteractive(key) {\n",
              "          const element = document.querySelector('#df-23b043a8-7220-4600-89da-6d876f8b9478');\n",
              "          const dataTable =\n",
              "            await google.colab.kernel.invokeFunction('convertToInteractive',\n",
              "                                                     [key], {});\n",
              "          if (!dataTable) return;\n",
              "\n",
              "          const docLinkHtml = 'Like what you see? Visit the ' +\n",
              "            '<a target=\"_blank\" href=https://colab.research.google.com/notebooks/data_table.ipynb>data table notebook</a>'\n",
              "            + ' to learn more about interactive tables.';\n",
              "          element.innerHTML = '';\n",
              "          dataTable['output_type'] = 'display_data';\n",
              "          await google.colab.output.renderOutput(dataTable, element);\n",
              "          const docLink = document.createElement('div');\n",
              "          docLink.innerHTML = docLinkHtml;\n",
              "          element.appendChild(docLink);\n",
              "        }\n",
              "      </script>\n",
              "    </div>\n",
              "  </div>\n",
              "  "
            ]
          },
          "metadata": {},
          "execution_count": 12
        }
      ]
    },
    {
      "cell_type": "code",
      "source": [
        "# Remover as stop words com NLTK\n",
        "\n",
        "from nltk import download\n",
        "download(['punkt', 'averaged_perceptron_tagger', 'stopwords'])\n",
        "\n",
        "\n",
        "from nltk import word_tokenize\n",
        "from nltk.corpus import stopwords\n",
        "\n",
        "stop_words = stopwords.words('portuguese')\n"
      ],
      "metadata": {
        "colab": {
          "base_uri": "https://localhost:8080/"
        },
        "id": "zcM3XTdfSVHX",
        "outputId": "46a9db8b-113d-4d48-edb9-9af2d69670eb"
      },
      "execution_count": 14,
      "outputs": [
        {
          "output_type": "stream",
          "name": "stderr",
          "text": [
            "[nltk_data] Downloading package punkt to /root/nltk_data...\n",
            "[nltk_data]   Package punkt is already up-to-date!\n",
            "[nltk_data] Downloading package averaged_perceptron_tagger to\n",
            "[nltk_data]     /root/nltk_data...\n",
            "[nltk_data]   Package averaged_perceptron_tagger is already up-to-\n",
            "[nltk_data]       date!\n",
            "[nltk_data] Downloading package stopwords to /root/nltk_data...\n",
            "[nltk_data]   Package stopwords is already up-to-date!\n"
          ]
        }
      ]
    },
    {
      "cell_type": "markdown",
      "source": [
        "Por curiosidade, vamos dar uma olhadinha em quais são aquelas palavras que podemos tirar do texto sem muito medo porque elas não acrescentam significado?"
      ],
      "metadata": {
        "id": "az7Cv89iLVlv"
      }
    },
    {
      "cell_type": "code",
      "source": [
        "# Conhecendo as stop words\n",
        "\n",
        "print(stop_words)"
      ],
      "metadata": {
        "colab": {
          "base_uri": "https://localhost:8080/"
        },
        "id": "OcU70CeuLS52",
        "outputId": "a4706f68-6c6e-4d72-92ad-dc6a8a303f34"
      },
      "execution_count": 17,
      "outputs": [
        {
          "output_type": "stream",
          "name": "stdout",
          "text": [
            "['a', 'à', 'ao', 'aos', 'aquela', 'aquelas', 'aquele', 'aqueles', 'aquilo', 'as', 'às', 'até', 'com', 'como', 'da', 'das', 'de', 'dela', 'delas', 'dele', 'deles', 'depois', 'do', 'dos', 'e', 'é', 'ela', 'elas', 'ele', 'eles', 'em', 'entre', 'era', 'eram', 'éramos', 'essa', 'essas', 'esse', 'esses', 'esta', 'está', 'estamos', 'estão', 'estar', 'estas', 'estava', 'estavam', 'estávamos', 'este', 'esteja', 'estejam', 'estejamos', 'estes', 'esteve', 'estive', 'estivemos', 'estiver', 'estivera', 'estiveram', 'estivéramos', 'estiverem', 'estivermos', 'estivesse', 'estivessem', 'estivéssemos', 'estou', 'eu', 'foi', 'fomos', 'for', 'fora', 'foram', 'fôramos', 'forem', 'formos', 'fosse', 'fossem', 'fôssemos', 'fui', 'há', 'haja', 'hajam', 'hajamos', 'hão', 'havemos', 'haver', 'hei', 'houve', 'houvemos', 'houver', 'houvera', 'houverá', 'houveram', 'houvéramos', 'houverão', 'houverei', 'houverem', 'houveremos', 'houveria', 'houveriam', 'houveríamos', 'houvermos', 'houvesse', 'houvessem', 'houvéssemos', 'isso', 'isto', 'já', 'lhe', 'lhes', 'mais', 'mas', 'me', 'mesmo', 'meu', 'meus', 'minha', 'minhas', 'muito', 'na', 'não', 'nas', 'nem', 'no', 'nos', 'nós', 'nossa', 'nossas', 'nosso', 'nossos', 'num', 'numa', 'o', 'os', 'ou', 'para', 'pela', 'pelas', 'pelo', 'pelos', 'por', 'qual', 'quando', 'que', 'quem', 'são', 'se', 'seja', 'sejam', 'sejamos', 'sem', 'ser', 'será', 'serão', 'serei', 'seremos', 'seria', 'seriam', 'seríamos', 'seu', 'seus', 'só', 'somos', 'sou', 'sua', 'suas', 'também', 'te', 'tem', 'tém', 'temos', 'tenha', 'tenham', 'tenhamos', 'tenho', 'terá', 'terão', 'terei', 'teremos', 'teria', 'teriam', 'teríamos', 'teu', 'teus', 'teve', 'tinha', 'tinham', 'tínhamos', 'tive', 'tivemos', 'tiver', 'tivera', 'tiveram', 'tivéramos', 'tiverem', 'tivermos', 'tivesse', 'tivessem', 'tivéssemos', 'tu', 'tua', 'tuas', 'um', 'uma', 'você', 'vocês', 'vos']\n"
          ]
        }
      ]
    },
    {
      "cell_type": "code",
      "source": [
        "# Aplicando a remoção de stop-words na coluna padronizada \n",
        "\n",
        "data['texto_clean'] = data['texto_padronizado'].apply(lambda x: ' '.join([word for word in x.split() if word not in (stop_words)]))\n",
        "data.head()"
      ],
      "metadata": {
        "colab": {
          "base_uri": "https://localhost:8080/",
          "height": 206
        },
        "id": "_F0v_oLGoiRY",
        "outputId": "88988ab2-592b-416d-a633-0d444b4833dd"
      },
      "execution_count": 19,
      "outputs": [
        {
          "output_type": "execute_result",
          "data": {
            "text/plain": [
              "                                                text    label  \\\n",
              "0  Olá, muito prazer! Sou o seu assistente virtua...  chatbot   \n",
              "1  Fechado, vamos fazer assim. Você passa os dado...  chatbot   \n",
              "2  Pra adiantar, vou precisar que você me fale qu...  chatbot   \n",
              "3  Humm eu não entendi, desculpa.\\n\\nDigite 1 par...  chatbot   \n",
              "4  Pera só um instante que vou checar aqui se enc...  chatbot   \n",
              "\n",
              "                                   texto_padronizado  \\\n",
              "0  ola muito prazer sou o seu assistente virtual ...   \n",
              "1  fechado vamos fazer assim voce passa os dados ...   \n",
              "2  pra adiantar vou precisar que voce me fale qua...   \n",
              "3  humm eu nao entendi desculpadigite para falar ...   \n",
              "4  pera so um instante que vou checar aqui se enc...   \n",
              "\n",
              "                                         texto_clean  \n",
              "0  ola prazer assistente virtual papel ajudar ven...  \n",
              "1  fechado vamos fazer assim voce passa dados ja ...  \n",
              "2          pra adiantar vou precisar voce fale email  \n",
              "3  humm nao entendi desculpadigite falar consulto...  \n",
              "4  pera so instante vou checar aqui encontro algu...  "
            ],
            "text/html": [
              "\n",
              "  <div id=\"df-c39ccec4-f739-45f1-93e1-487507d86c9b\">\n",
              "    <div class=\"colab-df-container\">\n",
              "      <div>\n",
              "<style scoped>\n",
              "    .dataframe tbody tr th:only-of-type {\n",
              "        vertical-align: middle;\n",
              "    }\n",
              "\n",
              "    .dataframe tbody tr th {\n",
              "        vertical-align: top;\n",
              "    }\n",
              "\n",
              "    .dataframe thead th {\n",
              "        text-align: right;\n",
              "    }\n",
              "</style>\n",
              "<table border=\"1\" class=\"dataframe\">\n",
              "  <thead>\n",
              "    <tr style=\"text-align: right;\">\n",
              "      <th></th>\n",
              "      <th>text</th>\n",
              "      <th>label</th>\n",
              "      <th>texto_padronizado</th>\n",
              "      <th>texto_clean</th>\n",
              "    </tr>\n",
              "  </thead>\n",
              "  <tbody>\n",
              "    <tr>\n",
              "      <th>0</th>\n",
              "      <td>Olá, muito prazer! Sou o seu assistente virtua...</td>\n",
              "      <td>chatbot</td>\n",
              "      <td>ola muito prazer sou o seu assistente virtual ...</td>\n",
              "      <td>ola prazer assistente virtual papel ajudar ven...</td>\n",
              "    </tr>\n",
              "    <tr>\n",
              "      <th>1</th>\n",
              "      <td>Fechado, vamos fazer assim. Você passa os dado...</td>\n",
              "      <td>chatbot</td>\n",
              "      <td>fechado vamos fazer assim voce passa os dados ...</td>\n",
              "      <td>fechado vamos fazer assim voce passa dados ja ...</td>\n",
              "    </tr>\n",
              "    <tr>\n",
              "      <th>2</th>\n",
              "      <td>Pra adiantar, vou precisar que você me fale qu...</td>\n",
              "      <td>chatbot</td>\n",
              "      <td>pra adiantar vou precisar que voce me fale qua...</td>\n",
              "      <td>pra adiantar vou precisar voce fale email</td>\n",
              "    </tr>\n",
              "    <tr>\n",
              "      <th>3</th>\n",
              "      <td>Humm eu não entendi, desculpa.\\n\\nDigite 1 par...</td>\n",
              "      <td>chatbot</td>\n",
              "      <td>humm eu nao entendi desculpadigite para falar ...</td>\n",
              "      <td>humm nao entendi desculpadigite falar consulto...</td>\n",
              "    </tr>\n",
              "    <tr>\n",
              "      <th>4</th>\n",
              "      <td>Pera só um instante que vou checar aqui se enc...</td>\n",
              "      <td>chatbot</td>\n",
              "      <td>pera so um instante que vou checar aqui se enc...</td>\n",
              "      <td>pera so instante vou checar aqui encontro algu...</td>\n",
              "    </tr>\n",
              "  </tbody>\n",
              "</table>\n",
              "</div>\n",
              "      <button class=\"colab-df-convert\" onclick=\"convertToInteractive('df-c39ccec4-f739-45f1-93e1-487507d86c9b')\"\n",
              "              title=\"Convert this dataframe to an interactive table.\"\n",
              "              style=\"display:none;\">\n",
              "        \n",
              "  <svg xmlns=\"http://www.w3.org/2000/svg\" height=\"24px\"viewBox=\"0 0 24 24\"\n",
              "       width=\"24px\">\n",
              "    <path d=\"M0 0h24v24H0V0z\" fill=\"none\"/>\n",
              "    <path d=\"M18.56 5.44l.94 2.06.94-2.06 2.06-.94-2.06-.94-.94-2.06-.94 2.06-2.06.94zm-11 1L8.5 8.5l.94-2.06 2.06-.94-2.06-.94L8.5 2.5l-.94 2.06-2.06.94zm10 10l.94 2.06.94-2.06 2.06-.94-2.06-.94-.94-2.06-.94 2.06-2.06.94z\"/><path d=\"M17.41 7.96l-1.37-1.37c-.4-.4-.92-.59-1.43-.59-.52 0-1.04.2-1.43.59L10.3 9.45l-7.72 7.72c-.78.78-.78 2.05 0 2.83L4 21.41c.39.39.9.59 1.41.59.51 0 1.02-.2 1.41-.59l7.78-7.78 2.81-2.81c.8-.78.8-2.07 0-2.86zM5.41 20L4 18.59l7.72-7.72 1.47 1.35L5.41 20z\"/>\n",
              "  </svg>\n",
              "      </button>\n",
              "      \n",
              "  <style>\n",
              "    .colab-df-container {\n",
              "      display:flex;\n",
              "      flex-wrap:wrap;\n",
              "      gap: 12px;\n",
              "    }\n",
              "\n",
              "    .colab-df-convert {\n",
              "      background-color: #E8F0FE;\n",
              "      border: none;\n",
              "      border-radius: 50%;\n",
              "      cursor: pointer;\n",
              "      display: none;\n",
              "      fill: #1967D2;\n",
              "      height: 32px;\n",
              "      padding: 0 0 0 0;\n",
              "      width: 32px;\n",
              "    }\n",
              "\n",
              "    .colab-df-convert:hover {\n",
              "      background-color: #E2EBFA;\n",
              "      box-shadow: 0px 1px 2px rgba(60, 64, 67, 0.3), 0px 1px 3px 1px rgba(60, 64, 67, 0.15);\n",
              "      fill: #174EA6;\n",
              "    }\n",
              "\n",
              "    [theme=dark] .colab-df-convert {\n",
              "      background-color: #3B4455;\n",
              "      fill: #D2E3FC;\n",
              "    }\n",
              "\n",
              "    [theme=dark] .colab-df-convert:hover {\n",
              "      background-color: #434B5C;\n",
              "      box-shadow: 0px 1px 3px 1px rgba(0, 0, 0, 0.15);\n",
              "      filter: drop-shadow(0px 1px 2px rgba(0, 0, 0, 0.3));\n",
              "      fill: #FFFFFF;\n",
              "    }\n",
              "  </style>\n",
              "\n",
              "      <script>\n",
              "        const buttonEl =\n",
              "          document.querySelector('#df-c39ccec4-f739-45f1-93e1-487507d86c9b button.colab-df-convert');\n",
              "        buttonEl.style.display =\n",
              "          google.colab.kernel.accessAllowed ? 'block' : 'none';\n",
              "\n",
              "        async function convertToInteractive(key) {\n",
              "          const element = document.querySelector('#df-c39ccec4-f739-45f1-93e1-487507d86c9b');\n",
              "          const dataTable =\n",
              "            await google.colab.kernel.invokeFunction('convertToInteractive',\n",
              "                                                     [key], {});\n",
              "          if (!dataTable) return;\n",
              "\n",
              "          const docLinkHtml = 'Like what you see? Visit the ' +\n",
              "            '<a target=\"_blank\" href=https://colab.research.google.com/notebooks/data_table.ipynb>data table notebook</a>'\n",
              "            + ' to learn more about interactive tables.';\n",
              "          element.innerHTML = '';\n",
              "          dataTable['output_type'] = 'display_data';\n",
              "          await google.colab.output.renderOutput(dataTable, element);\n",
              "          const docLink = document.createElement('div');\n",
              "          docLink.innerHTML = docLinkHtml;\n",
              "          element.appendChild(docLink);\n",
              "        }\n",
              "      </script>\n",
              "    </div>\n",
              "  </div>\n",
              "  "
            ]
          },
          "metadata": {},
          "execution_count": 19
        }
      ]
    },
    {
      "cell_type": "markdown",
      "source": [
        "**Outra forma de remover as stop words - usando txt**. <br>\n",
        "Essa parte é mais uma curiosidade, é uma possibilidade legal para sabermos que existe. <br>\n",
        "Como já removemos as stop words na célula de cima, não precisamos fazer de novo. É apenas um método diferente para alcançar o mesmo resultado.\n",
        "\n",
        "Caso possua curiosidade de testar depois, é só importar o arquivo `stopwords-pt.txt` na sessão do Colab (como fizemos com o dataset) e executar a célula abaixo."
      ],
      "metadata": {
        "id": "g7lJVO-fMRHd"
      }
    },
    {
      "cell_type": "code",
      "source": [
        "#@title # Outra forma de remover as stop words - usando txt\n",
        "\n",
        "stop_portugues = list(open(r'stopwords-pt.txt', encoding=\"UTF-8\"))\n",
        "stop_portugues= [i.replace('\\n','') for i in stop_portugues] \n",
        "stop_portugues = [remover_acentos_e_numeros(i) for i in stop_portugues]\n",
        "\n",
        "def remover_stop_words(x):\n",
        "    return [w for w in x if w not in stop_portugues]\n",
        "\n",
        "data['texto_clean_1'] = data['texto_padronizado'].str.split().apply(remover_stop_words).str.join(' ')\n",
        "data.head()    "
      ],
      "metadata": {
        "colab": {
          "base_uri": "https://localhost:8080/",
          "height": 337
        },
        "id": "GcrsOnRWrk8-",
        "outputId": "f2e91c83-b8de-4aee-c62f-3c897f138a5b",
        "cellView": "form"
      },
      "execution_count": 20,
      "outputs": [
        {
          "output_type": "execute_result",
          "data": {
            "text/plain": [
              "                                                text    label  \\\n",
              "0  Olá, muito prazer! Sou o seu assistente virtua...  chatbot   \n",
              "1  Fechado, vamos fazer assim. Você passa os dado...  chatbot   \n",
              "2  Pra adiantar, vou precisar que você me fale qu...  chatbot   \n",
              "3  Humm eu não entendi, desculpa.\\n\\nDigite 1 par...  chatbot   \n",
              "4  Pera só um instante que vou checar aqui se enc...  chatbot   \n",
              "\n",
              "                                   texto_padronizado  \\\n",
              "0  ola muito prazer sou o seu assistente virtual ...   \n",
              "1  fechado vamos fazer assim voce passa os dados ...   \n",
              "2  pra adiantar vou precisar que voce me fale qua...   \n",
              "3  humm eu nao entendi desculpadigite para falar ...   \n",
              "4  pera so um instante que vou checar aqui se enc...   \n",
              "\n",
              "                                         texto_clean  \\\n",
              "0  ola prazer assistente virtual papel ajudar ven...   \n",
              "1  fechado vamos fazer assim voce passa dados ja ...   \n",
              "2          pra adiantar vou precisar voce fale email   \n",
              "3  humm nao entendi desculpadigite falar consulto...   \n",
              "4  pera so instante vou checar aqui encontro algu...   \n",
              "\n",
              "                                       texto_clean_1  \n",
              "0  ola prazer assistente virtual papel ajudar ven...  \n",
              "1  fechado vamos passa dados deixo dei cadastro p...  \n",
              "2                   adiantar vou precisar fale email  \n",
              "3  humm entendi desculpadigite falar consultordig...  \n",
              "4  pera instante vou checar encontro algum pedido...  "
            ],
            "text/html": [
              "\n",
              "  <div id=\"df-94db3e79-fb15-423c-b763-1b17fe9757d3\">\n",
              "    <div class=\"colab-df-container\">\n",
              "      <div>\n",
              "<style scoped>\n",
              "    .dataframe tbody tr th:only-of-type {\n",
              "        vertical-align: middle;\n",
              "    }\n",
              "\n",
              "    .dataframe tbody tr th {\n",
              "        vertical-align: top;\n",
              "    }\n",
              "\n",
              "    .dataframe thead th {\n",
              "        text-align: right;\n",
              "    }\n",
              "</style>\n",
              "<table border=\"1\" class=\"dataframe\">\n",
              "  <thead>\n",
              "    <tr style=\"text-align: right;\">\n",
              "      <th></th>\n",
              "      <th>text</th>\n",
              "      <th>label</th>\n",
              "      <th>texto_padronizado</th>\n",
              "      <th>texto_clean</th>\n",
              "      <th>texto_clean_1</th>\n",
              "    </tr>\n",
              "  </thead>\n",
              "  <tbody>\n",
              "    <tr>\n",
              "      <th>0</th>\n",
              "      <td>Olá, muito prazer! Sou o seu assistente virtua...</td>\n",
              "      <td>chatbot</td>\n",
              "      <td>ola muito prazer sou o seu assistente virtual ...</td>\n",
              "      <td>ola prazer assistente virtual papel ajudar ven...</td>\n",
              "      <td>ola prazer assistente virtual papel ajudar ven...</td>\n",
              "    </tr>\n",
              "    <tr>\n",
              "      <th>1</th>\n",
              "      <td>Fechado, vamos fazer assim. Você passa os dado...</td>\n",
              "      <td>chatbot</td>\n",
              "      <td>fechado vamos fazer assim voce passa os dados ...</td>\n",
              "      <td>fechado vamos fazer assim voce passa dados ja ...</td>\n",
              "      <td>fechado vamos passa dados deixo dei cadastro p...</td>\n",
              "    </tr>\n",
              "    <tr>\n",
              "      <th>2</th>\n",
              "      <td>Pra adiantar, vou precisar que você me fale qu...</td>\n",
              "      <td>chatbot</td>\n",
              "      <td>pra adiantar vou precisar que voce me fale qua...</td>\n",
              "      <td>pra adiantar vou precisar voce fale email</td>\n",
              "      <td>adiantar vou precisar fale email</td>\n",
              "    </tr>\n",
              "    <tr>\n",
              "      <th>3</th>\n",
              "      <td>Humm eu não entendi, desculpa.\\n\\nDigite 1 par...</td>\n",
              "      <td>chatbot</td>\n",
              "      <td>humm eu nao entendi desculpadigite para falar ...</td>\n",
              "      <td>humm nao entendi desculpadigite falar consulto...</td>\n",
              "      <td>humm entendi desculpadigite falar consultordig...</td>\n",
              "    </tr>\n",
              "    <tr>\n",
              "      <th>4</th>\n",
              "      <td>Pera só um instante que vou checar aqui se enc...</td>\n",
              "      <td>chatbot</td>\n",
              "      <td>pera so um instante que vou checar aqui se enc...</td>\n",
              "      <td>pera so instante vou checar aqui encontro algu...</td>\n",
              "      <td>pera instante vou checar encontro algum pedido...</td>\n",
              "    </tr>\n",
              "  </tbody>\n",
              "</table>\n",
              "</div>\n",
              "      <button class=\"colab-df-convert\" onclick=\"convertToInteractive('df-94db3e79-fb15-423c-b763-1b17fe9757d3')\"\n",
              "              title=\"Convert this dataframe to an interactive table.\"\n",
              "              style=\"display:none;\">\n",
              "        \n",
              "  <svg xmlns=\"http://www.w3.org/2000/svg\" height=\"24px\"viewBox=\"0 0 24 24\"\n",
              "       width=\"24px\">\n",
              "    <path d=\"M0 0h24v24H0V0z\" fill=\"none\"/>\n",
              "    <path d=\"M18.56 5.44l.94 2.06.94-2.06 2.06-.94-2.06-.94-.94-2.06-.94 2.06-2.06.94zm-11 1L8.5 8.5l.94-2.06 2.06-.94-2.06-.94L8.5 2.5l-.94 2.06-2.06.94zm10 10l.94 2.06.94-2.06 2.06-.94-2.06-.94-.94-2.06-.94 2.06-2.06.94z\"/><path d=\"M17.41 7.96l-1.37-1.37c-.4-.4-.92-.59-1.43-.59-.52 0-1.04.2-1.43.59L10.3 9.45l-7.72 7.72c-.78.78-.78 2.05 0 2.83L4 21.41c.39.39.9.59 1.41.59.51 0 1.02-.2 1.41-.59l7.78-7.78 2.81-2.81c.8-.78.8-2.07 0-2.86zM5.41 20L4 18.59l7.72-7.72 1.47 1.35L5.41 20z\"/>\n",
              "  </svg>\n",
              "      </button>\n",
              "      \n",
              "  <style>\n",
              "    .colab-df-container {\n",
              "      display:flex;\n",
              "      flex-wrap:wrap;\n",
              "      gap: 12px;\n",
              "    }\n",
              "\n",
              "    .colab-df-convert {\n",
              "      background-color: #E8F0FE;\n",
              "      border: none;\n",
              "      border-radius: 50%;\n",
              "      cursor: pointer;\n",
              "      display: none;\n",
              "      fill: #1967D2;\n",
              "      height: 32px;\n",
              "      padding: 0 0 0 0;\n",
              "      width: 32px;\n",
              "    }\n",
              "\n",
              "    .colab-df-convert:hover {\n",
              "      background-color: #E2EBFA;\n",
              "      box-shadow: 0px 1px 2px rgba(60, 64, 67, 0.3), 0px 1px 3px 1px rgba(60, 64, 67, 0.15);\n",
              "      fill: #174EA6;\n",
              "    }\n",
              "\n",
              "    [theme=dark] .colab-df-convert {\n",
              "      background-color: #3B4455;\n",
              "      fill: #D2E3FC;\n",
              "    }\n",
              "\n",
              "    [theme=dark] .colab-df-convert:hover {\n",
              "      background-color: #434B5C;\n",
              "      box-shadow: 0px 1px 3px 1px rgba(0, 0, 0, 0.15);\n",
              "      filter: drop-shadow(0px 1px 2px rgba(0, 0, 0, 0.3));\n",
              "      fill: #FFFFFF;\n",
              "    }\n",
              "  </style>\n",
              "\n",
              "      <script>\n",
              "        const buttonEl =\n",
              "          document.querySelector('#df-94db3e79-fb15-423c-b763-1b17fe9757d3 button.colab-df-convert');\n",
              "        buttonEl.style.display =\n",
              "          google.colab.kernel.accessAllowed ? 'block' : 'none';\n",
              "\n",
              "        async function convertToInteractive(key) {\n",
              "          const element = document.querySelector('#df-94db3e79-fb15-423c-b763-1b17fe9757d3');\n",
              "          const dataTable =\n",
              "            await google.colab.kernel.invokeFunction('convertToInteractive',\n",
              "                                                     [key], {});\n",
              "          if (!dataTable) return;\n",
              "\n",
              "          const docLinkHtml = 'Like what you see? Visit the ' +\n",
              "            '<a target=\"_blank\" href=https://colab.research.google.com/notebooks/data_table.ipynb>data table notebook</a>'\n",
              "            + ' to learn more about interactive tables.';\n",
              "          element.innerHTML = '';\n",
              "          dataTable['output_type'] = 'display_data';\n",
              "          await google.colab.output.renderOutput(dataTable, element);\n",
              "          const docLink = document.createElement('div');\n",
              "          docLink.innerHTML = docLinkHtml;\n",
              "          element.appendChild(docLink);\n",
              "        }\n",
              "      </script>\n",
              "    </div>\n",
              "  </div>\n",
              "  "
            ]
          },
          "metadata": {},
          "execution_count": 20
        }
      ]
    },
    {
      "cell_type": "code",
      "source": [
        "# Vetorizando o texto e aplicando TF-idf\n",
        "\n",
        "tfidf = TfidfVectorizer(stop_words = stop_words)\n",
        "\n",
        "X = tfidf.fit_transform(data.texto_clean)\n",
        "y = (data.label)"
      ],
      "metadata": {
        "id": "LCmG4VbP3pBD"
      },
      "execution_count": 21,
      "outputs": []
    },
    {
      "cell_type": "markdown",
      "source": [
        "### 3. Vamos modelar? Criação de um modelo de classificação"
      ],
      "metadata": {
        "id": "aKCTbVAaJ99K"
      }
    },
    {
      "cell_type": "code",
      "source": [
        "# Definindo modelos que serão testados - Regressão Logística\n",
        "\n",
        "modelos = {\"Regressão Logística\": LogisticRegressionCV()}"
      ],
      "metadata": {
        "id": "h3aCzrhZ3oVk"
      },
      "execution_count": 22,
      "outputs": []
    },
    {
      "cell_type": "markdown",
      "source": [
        "Para fazer o treinamento do nosso modelo precisamos separar o texto que ele vai ter que treinar e as labels/targets. Fazendo uma analogia, o texto seria como todas as referências que utilizamos para estudar para uma prova por exemplo e as labels seriam o gabarito. <br>\n",
        "\n",
        "Não faz sentido a gente ir estudar para uma prova com o gabarito em mãos, certo? É exatamente esse mesmo raciocínio que estamos aplicando aqui. Para o modelo não 'colar' estamos tirando o gabarito dele, assim ele vai aprender apenas os padrões das mensagens. "
      ],
      "metadata": {
        "id": "LRkrrdS5NPfE"
      }
    },
    {
      "cell_type": "code",
      "source": [
        "# Separando o texto em features e targets\n",
        "\n",
        "X = data.texto_clean\n",
        "Y = data.label"
      ],
      "metadata": {
        "id": "QQnxVnTsKhJH"
      },
      "execution_count": 23,
      "outputs": []
    },
    {
      "cell_type": "code",
      "source": [
        "# Instanciando o CountVectorizer \n",
        "\n",
        "tokenizer = CountVectorizer(ngram_range=(1,1))\n",
        "\n",
        "# Tokenizando os dados \n",
        "tokenizer.fit(X)\n",
        "X_mat = tokenizer.transform(X)\n",
        "X_df = pd.DataFrame(X_mat.todense())"
      ],
      "metadata": {
        "id": "9R0szUuo6UNM"
      },
      "execution_count": 24,
      "outputs": []
    },
    {
      "cell_type": "code",
      "source": [
        "from sklearn.model_selection import cross_val_score\n",
        "\n",
        "# Transformando o y em número para que o modelo consiga avaliar a classe. Escolhi o valor 0 para chatbot e 1 para humano\n",
        "y = y.replace(['chatbot', 'humano'], [0, 1]).astype('category')\n",
        "\n",
        "\n",
        "# Cross validation para avaliar a acurácia dos modelos.\n",
        "for nome, modelo in modelos.items():\n",
        "    accuracy = cross_val_score(modelo, X_df, y, cv = 3, scoring='accuracy').mean() # Definindo 3 folds e fazendo a média\n",
        "    print(nome, accuracy)\n"
      ],
      "metadata": {
        "id": "wmddJtzd6YHM",
        "colab": {
          "base_uri": "https://localhost:8080/"
        },
        "outputId": "043c4ca4-3783-496c-bc53-fad28efdb4f9"
      },
      "execution_count": 25,
      "outputs": [
        {
          "output_type": "stream",
          "name": "stdout",
          "text": [
            "Regressão Logística 0.9468223086900128\n"
          ]
        }
      ]
    },
    {
      "cell_type": "markdown",
      "source": [
        "### 4. Como saber se nosso modelo foi bem? Interpretação de métricas."
      ],
      "metadata": {
        "id": "SKFt8qHKKi_o"
      }
    },
    {
      "cell_type": "markdown",
      "source": [
        "A acurácia nos retorna os elementos classificados corretamente pelo modelo.\n",
        "Ela é uma métrica interessante, pois nos traz o quanto o modelo consegue classificar corretamente."
      ],
      "metadata": {
        "id": "aH4fUC6g5G8D"
      }
    },
    {
      "cell_type": "code",
      "source": [
        "# Criando dicionário e Avaliando o modelo\n",
        "dict_metrica = {}\n",
        "dict_metrica[\"Tecnica Utilizada\"] = [\"Vetorização + Remoção de stopwords\"]\n",
        "\n",
        "# Transformando o y em número para que o modelo consiga avaliar a classe. Escolhi o valor 0 para chatbot e 1 para humano\n",
        "y = y.replace(['chatbot', 'humano'], [0, 1]).astype('category')\n",
        "\n",
        "# Cross validation para avaliar a acurácia dos modelos.\n",
        "for nome, modelo in modelos.items():\n",
        "    accuracy = cross_val_score(modelo, X_df, y, cv = 3, scoring='accuracy').mean() # Definindo 3 folds e fazendo a média\n",
        "    dict_metrica[nome] = [round(accuracy,4)]\n",
        "    \n",
        "# Mostrando métricas\n",
        "df_metricas = pd.DataFrame(dict_metrica)\n",
        "df_metricas"
      ],
      "metadata": {
        "id": "xvngJQcFKoql",
        "colab": {
          "base_uri": "https://localhost:8080/",
          "height": 80
        },
        "outputId": "36eaa9f0-3fa2-4aab-dc9b-43b5cdf6df81"
      },
      "execution_count": 26,
      "outputs": [
        {
          "output_type": "execute_result",
          "data": {
            "text/plain": [
              "                    Tecnica Utilizada  Regressão Logística\n",
              "0  Vetorização + Remoção de stopwords               0.9468"
            ],
            "text/html": [
              "\n",
              "  <div id=\"df-dbcb132d-852f-4939-b716-d0b7dac02c10\">\n",
              "    <div class=\"colab-df-container\">\n",
              "      <div>\n",
              "<style scoped>\n",
              "    .dataframe tbody tr th:only-of-type {\n",
              "        vertical-align: middle;\n",
              "    }\n",
              "\n",
              "    .dataframe tbody tr th {\n",
              "        vertical-align: top;\n",
              "    }\n",
              "\n",
              "    .dataframe thead th {\n",
              "        text-align: right;\n",
              "    }\n",
              "</style>\n",
              "<table border=\"1\" class=\"dataframe\">\n",
              "  <thead>\n",
              "    <tr style=\"text-align: right;\">\n",
              "      <th></th>\n",
              "      <th>Tecnica Utilizada</th>\n",
              "      <th>Regressão Logística</th>\n",
              "    </tr>\n",
              "  </thead>\n",
              "  <tbody>\n",
              "    <tr>\n",
              "      <th>0</th>\n",
              "      <td>Vetorização + Remoção de stopwords</td>\n",
              "      <td>0.9468</td>\n",
              "    </tr>\n",
              "  </tbody>\n",
              "</table>\n",
              "</div>\n",
              "      <button class=\"colab-df-convert\" onclick=\"convertToInteractive('df-dbcb132d-852f-4939-b716-d0b7dac02c10')\"\n",
              "              title=\"Convert this dataframe to an interactive table.\"\n",
              "              style=\"display:none;\">\n",
              "        \n",
              "  <svg xmlns=\"http://www.w3.org/2000/svg\" height=\"24px\"viewBox=\"0 0 24 24\"\n",
              "       width=\"24px\">\n",
              "    <path d=\"M0 0h24v24H0V0z\" fill=\"none\"/>\n",
              "    <path d=\"M18.56 5.44l.94 2.06.94-2.06 2.06-.94-2.06-.94-.94-2.06-.94 2.06-2.06.94zm-11 1L8.5 8.5l.94-2.06 2.06-.94-2.06-.94L8.5 2.5l-.94 2.06-2.06.94zm10 10l.94 2.06.94-2.06 2.06-.94-2.06-.94-.94-2.06-.94 2.06-2.06.94z\"/><path d=\"M17.41 7.96l-1.37-1.37c-.4-.4-.92-.59-1.43-.59-.52 0-1.04.2-1.43.59L10.3 9.45l-7.72 7.72c-.78.78-.78 2.05 0 2.83L4 21.41c.39.39.9.59 1.41.59.51 0 1.02-.2 1.41-.59l7.78-7.78 2.81-2.81c.8-.78.8-2.07 0-2.86zM5.41 20L4 18.59l7.72-7.72 1.47 1.35L5.41 20z\"/>\n",
              "  </svg>\n",
              "      </button>\n",
              "      \n",
              "  <style>\n",
              "    .colab-df-container {\n",
              "      display:flex;\n",
              "      flex-wrap:wrap;\n",
              "      gap: 12px;\n",
              "    }\n",
              "\n",
              "    .colab-df-convert {\n",
              "      background-color: #E8F0FE;\n",
              "      border: none;\n",
              "      border-radius: 50%;\n",
              "      cursor: pointer;\n",
              "      display: none;\n",
              "      fill: #1967D2;\n",
              "      height: 32px;\n",
              "      padding: 0 0 0 0;\n",
              "      width: 32px;\n",
              "    }\n",
              "\n",
              "    .colab-df-convert:hover {\n",
              "      background-color: #E2EBFA;\n",
              "      box-shadow: 0px 1px 2px rgba(60, 64, 67, 0.3), 0px 1px 3px 1px rgba(60, 64, 67, 0.15);\n",
              "      fill: #174EA6;\n",
              "    }\n",
              "\n",
              "    [theme=dark] .colab-df-convert {\n",
              "      background-color: #3B4455;\n",
              "      fill: #D2E3FC;\n",
              "    }\n",
              "\n",
              "    [theme=dark] .colab-df-convert:hover {\n",
              "      background-color: #434B5C;\n",
              "      box-shadow: 0px 1px 3px 1px rgba(0, 0, 0, 0.15);\n",
              "      filter: drop-shadow(0px 1px 2px rgba(0, 0, 0, 0.3));\n",
              "      fill: #FFFFFF;\n",
              "    }\n",
              "  </style>\n",
              "\n",
              "      <script>\n",
              "        const buttonEl =\n",
              "          document.querySelector('#df-dbcb132d-852f-4939-b716-d0b7dac02c10 button.colab-df-convert');\n",
              "        buttonEl.style.display =\n",
              "          google.colab.kernel.accessAllowed ? 'block' : 'none';\n",
              "\n",
              "        async function convertToInteractive(key) {\n",
              "          const element = document.querySelector('#df-dbcb132d-852f-4939-b716-d0b7dac02c10');\n",
              "          const dataTable =\n",
              "            await google.colab.kernel.invokeFunction('convertToInteractive',\n",
              "                                                     [key], {});\n",
              "          if (!dataTable) return;\n",
              "\n",
              "          const docLinkHtml = 'Like what you see? Visit the ' +\n",
              "            '<a target=\"_blank\" href=https://colab.research.google.com/notebooks/data_table.ipynb>data table notebook</a>'\n",
              "            + ' to learn more about interactive tables.';\n",
              "          element.innerHTML = '';\n",
              "          dataTable['output_type'] = 'display_data';\n",
              "          await google.colab.output.renderOutput(dataTable, element);\n",
              "          const docLink = document.createElement('div');\n",
              "          docLink.innerHTML = docLinkHtml;\n",
              "          element.appendChild(docLink);\n",
              "        }\n",
              "      </script>\n",
              "    </div>\n",
              "  </div>\n",
              "  "
            ]
          },
          "metadata": {},
          "execution_count": 26
        }
      ]
    },
    {
      "cell_type": "markdown",
      "source": [
        "O quão bem o nosso modelo consegue classificar corretamente as classes? Ele consegue classificar corretamente 94% das amostras! <br>\n",
        "\n"
      ],
      "metadata": {
        "id": "9x-mCGaj9394"
      }
    },
    {
      "cell_type": "markdown",
      "source": [
        "*Alguns pontos importantes*\n",
        "- A validação cruzada (cross validation - uma técnica para auxiliar a capacidade preditiva do modelo dado uma variabilidade maior) foi aplicada em todos os resultados. Ou seja, eles trazem uma média de 3 folds - cada fold divide aleatoriamente a base de dados.<br>\n",
        "- Os n-grams utilizados foram de 1 token para todos os modelos <br>\n",
        "- todos os treinos foram realizados com a coluna textual padronizada,  e sem as stopwords.<br>\n",
        "- Para outro momento valeria muito utilizar outras métricas como Recall, F1-Score e matriz de confusão para uma avaliação mais completa."
      ],
      "metadata": {
        "id": "pKM53tZEC9eb"
      }
    },
    {
      "cell_type": "markdown",
      "source": [
        "### 5. Se o modelo se saiu bem até agora significa que ele se sairá bem com novos dados?"
      ],
      "metadata": {
        "id": "GUPra2q4Owve"
      }
    },
    {
      "cell_type": "markdown",
      "source": [
        "#### Testando em novos dados\n",
        "\n",
        "\n",
        "<br> Apesar do viés de seleção, por eu ter acabado de ler alguns tipos de mensagens no dataset, em um arquivo eu escrevi 10 mensagens como se eu fosse atendente e quero ver como o modelo poderia classificar ele."
      ],
      "metadata": {
        "id": "1rM_aTXBDTFO"
      }
    },
    {
      "cell_type": "code",
      "source": [
        "df_pred = pd.read_excel(\"dados_teste.xlsx\")\n",
        "df_pred.head()"
      ],
      "metadata": {
        "id": "w5g1gNJ3C950"
      },
      "execution_count": null,
      "outputs": []
    },
    {
      "cell_type": "code",
      "source": [
        "# Separando o texto em features e targets\n",
        "\n",
        "X = df_pred.text\n",
        "Y = df.label"
      ],
      "metadata": {
        "id": "SnnhKt8bD6hF"
      },
      "execution_count": null,
      "outputs": []
    },
    {
      "cell_type": "code",
      "source": [
        "# Instanciando o CountVectorizer \n",
        "\n",
        "tokenizer = CountVectorizer(ngram_range=(1,1))\n",
        "\n",
        "# instanciando e treinando o modelo\n",
        "\n",
        "tokenizer.fit(X)\n",
        "df_treino = tokenizer.transform(X)\n",
        "df_teste = tokenizer.transform(df_pred.text)"
      ],
      "metadata": {
        "id": "rquh1jenD-SO"
      },
      "execution_count": null,
      "outputs": []
    },
    {
      "cell_type": "code",
      "source": [],
      "metadata": {
        "id": "KRYR0fhI2P62"
      },
      "execution_count": null,
      "outputs": []
    },
    {
      "cell_type": "code",
      "source": [
        "# modelando os dados e treinando\n",
        "\n",
        "regressao = LogisticRegressionCV(random_state=123)\n",
        "\n",
        "modelo_novo = regressao.fit(df_treino, df.label.sample(10))\n",
        "\n",
        "y_pred = modelo_novo.predict(df_teste)\n",
        "df_pred['y_pred'] = y_pred\n",
        "df_pred"
      ],
      "metadata": {
        "id": "3KGYWxLyEIvR"
      },
      "execution_count": null,
      "outputs": []
    },
    {
      "cell_type": "code",
      "source": [
        "# Vamos verificar a probabilidade da classificação pra ver com quanta confiança ele classificou as mensagens?\n",
        "\n",
        "y_pred_prob = modelo_novo.predict_proba(df_teste)\n",
        "\n",
        "y_pred_hum = []\n",
        "y_pred_chat = []\n",
        "for i in y_pred_prob:\n",
        "    y_pred_hum.append(i[1])\n",
        "    y_pred_chat.append(i[0])\n",
        "    \n",
        "df_pred['y_pred_hum'] = y_pred_hum\n",
        "df_pred['y_pred_chat'] = y_pred_chat\n",
        "\n",
        "df_pred"
      ],
      "metadata": {
        "id": "JMy0Cx0FEOYG"
      },
      "execution_count": null,
      "outputs": []
    }
  ]
}