{
  "nbformat": 4,
  "nbformat_minor": 0,
  "metadata": {
    "colab": {
      "provenance": [],
      "collapsed_sections": [
        "h9FsUBLFI4HZ"
      ],
      "authorship_tag": "ABX9TyMbVONGE7MQsiCJjzs1/IWr",
      "include_colab_link": true
    },
    "kernelspec": {
      "name": "python3",
      "display_name": "Python 3"
    },
    "language_info": {
      "name": "python"
    }
  },
  "cells": [
    {
      "cell_type": "markdown",
      "metadata": {
        "id": "view-in-github",
        "colab_type": "text"
      },
      "source": [
        "<a href=\"https://colab.research.google.com/github/Mel-iza/Weni_XP_IA/blob/main/notebook/weni_xp_hands_on_ia.ipynb\" target=\"_parent\"><img src=\"https://colab.research.google.com/assets/colab-badge.svg\" alt=\"Open In Colab\"/></a>"
      ]
    },
    {
      "cell_type": "markdown",
      "source": [
        "### 0. Exploração do problema"
      ],
      "metadata": {
        "id": "h9FsUBLFI4HZ"
      }
    },
    {
      "cell_type": "markdown",
      "source": [],
      "metadata": {
        "id": "fPyypjOYtMhG"
      }
    },
    {
      "cell_type": "markdown",
      "source": [
        "### 1. Instalação das bibliotecas e importação dos dados \n"
      ],
      "metadata": {
        "id": "dGYZgajZImz9"
      }
    },
    {
      "cell_type": "markdown",
      "source": [
        "Instalação das bibliotecas que vamos utilizar:"
      ],
      "metadata": {
        "id": "3sSNss_6ZOeU"
      }
    },
    {
      "cell_type": "code",
      "execution_count": null,
      "metadata": {
        "id": "2V0TiwMecf8k"
      },
      "outputs": [],
      "source": [
        "# Instalação das bibliotecas necessárias\n",
        "\n",
        "!pip install scikit-learn==1.2.1\n",
        "!pip install numpy==1.24.2\n",
        "!pip install scipy==1.2.1 \n",
        "!pip install pandas==1.5.3\n",
        "!pip install Unidecode==1.3.6\n",
        "!pip install nltk==3.8.1\n",
        "!pip install spacy==3.5.0\n",
        "!python -m spacy download pt_core_news_sm"
      ]
    },
    {
      "cell_type": "markdown",
      "source": [
        "Importação das bibliotecas e módulos"
      ],
      "metadata": {
        "id": "AsYJDohTZS-u"
      }
    },
    {
      "cell_type": "code",
      "source": [
        "# Importando as bibliotecas\n",
        "\n",
        "# Manipulação de dados\n",
        "import pandas as pd\n",
        "import numpy as np\n",
        "import unicodedata\n",
        "import unidecode\n",
        "import re\n",
        "\n",
        "\n",
        "# Machine Learning, vetorização e métricas\n",
        "import sklearn\n",
        "from sklearn import metrics\n",
        "from sklearn.metrics import accuracy_score\n",
        "from sklearn.metrics import classification_report\n",
        "from sklearn.linear_model import LogisticRegressionCV\n",
        "\n",
        "\n",
        "# Tratamento e manipulação de texto\n",
        "import nltk\n",
        "import spacy\n",
        "import pt_core_news_sm\n",
        "from sklearn.feature_extraction.text import TfidfVectorizer,CountVectorizer\n",
        "\n",
        "import warnings\n",
        "warnings.simplefilter(\"ignore\")"
      ],
      "metadata": {
        "id": "CscFRXsGORVP"
      },
      "execution_count": 10,
      "outputs": []
    },
    {
      "cell_type": "markdown",
      "source": [
        "----------------------"
      ],
      "metadata": {
        "id": "fOZ3t4bsUznK"
      }
    },
    {
      "cell_type": "markdown",
      "source": [
        "Importando os dados"
      ],
      "metadata": {
        "id": "nZr4lo1mZZVu"
      }
    },
    {
      "cell_type": "code",
      "source": [
        "# Seu código aqui\n",
        "# Importando o conjunto de dados\n",
        "\n",
        "data = pd.read_csv('https://raw.githubusercontent.com/Mel-iza/Weni_XP_IA/main/data/train_dataset_1.csv?token=GHSAT0AAAAAABZRO4D4I4DF6WM22KDQ62NAZAHRWYQ')\n",
        "data"
      ],
      "metadata": {
        "id": "y3NxN0u4Zg-j"
      },
      "execution_count": null,
      "outputs": []
    },
    {
      "cell_type": "code",
      "source": [
        "#@title resultado esperado:\n",
        "\n",
        "data =  pd.read_csv('/content/train_dataset_1.csv')\n",
        "data"
      ],
      "metadata": {
        "colab": {
          "base_uri": "https://localhost:8080/",
          "height": 423
        },
        "cellView": "form",
        "id": "Rs4OmojKRiXC",
        "outputId": "f504089f-73d5-4f0e-dfeb-25c038227478"
      },
      "execution_count": 31,
      "outputs": [
        {
          "output_type": "execute_result",
          "data": {
            "text/plain": [
              "                                                   text    label\n",
              "0     Olá, muito prazer! Sou o seu assistente virtua...  chatbot\n",
              "1     Fechado, vamos fazer assim. Você passa os dado...  chatbot\n",
              "2     Pra adiantar, vou precisar que você me fale qu...  chatbot\n",
              "3     Humm eu não entendi, desculpa.\\n\\nDigite 1 par...  chatbot\n",
              "4     Pera só um instante que vou checar aqui se enc...  chatbot\n",
              "...                                                 ...      ...\n",
              "1537                                                 42   humano\n",
              "1538                                              start   humano\n",
              "1539                             Quais são os riscos? 😷   humano\n",
              "1540                                                Nao   humano\n",
              "1541                                                 Ok   humano\n",
              "\n",
              "[1542 rows x 2 columns]"
            ],
            "text/html": [
              "\n",
              "  <div id=\"df-33c153cf-fc52-4645-bc49-7d9976d03125\">\n",
              "    <div class=\"colab-df-container\">\n",
              "      <div>\n",
              "<style scoped>\n",
              "    .dataframe tbody tr th:only-of-type {\n",
              "        vertical-align: middle;\n",
              "    }\n",
              "\n",
              "    .dataframe tbody tr th {\n",
              "        vertical-align: top;\n",
              "    }\n",
              "\n",
              "    .dataframe thead th {\n",
              "        text-align: right;\n",
              "    }\n",
              "</style>\n",
              "<table border=\"1\" class=\"dataframe\">\n",
              "  <thead>\n",
              "    <tr style=\"text-align: right;\">\n",
              "      <th></th>\n",
              "      <th>text</th>\n",
              "      <th>label</th>\n",
              "    </tr>\n",
              "  </thead>\n",
              "  <tbody>\n",
              "    <tr>\n",
              "      <th>0</th>\n",
              "      <td>Olá, muito prazer! Sou o seu assistente virtua...</td>\n",
              "      <td>chatbot</td>\n",
              "    </tr>\n",
              "    <tr>\n",
              "      <th>1</th>\n",
              "      <td>Fechado, vamos fazer assim. Você passa os dado...</td>\n",
              "      <td>chatbot</td>\n",
              "    </tr>\n",
              "    <tr>\n",
              "      <th>2</th>\n",
              "      <td>Pra adiantar, vou precisar que você me fale qu...</td>\n",
              "      <td>chatbot</td>\n",
              "    </tr>\n",
              "    <tr>\n",
              "      <th>3</th>\n",
              "      <td>Humm eu não entendi, desculpa.\\n\\nDigite 1 par...</td>\n",
              "      <td>chatbot</td>\n",
              "    </tr>\n",
              "    <tr>\n",
              "      <th>4</th>\n",
              "      <td>Pera só um instante que vou checar aqui se enc...</td>\n",
              "      <td>chatbot</td>\n",
              "    </tr>\n",
              "    <tr>\n",
              "      <th>...</th>\n",
              "      <td>...</td>\n",
              "      <td>...</td>\n",
              "    </tr>\n",
              "    <tr>\n",
              "      <th>1537</th>\n",
              "      <td>42</td>\n",
              "      <td>humano</td>\n",
              "    </tr>\n",
              "    <tr>\n",
              "      <th>1538</th>\n",
              "      <td>start</td>\n",
              "      <td>humano</td>\n",
              "    </tr>\n",
              "    <tr>\n",
              "      <th>1539</th>\n",
              "      <td>Quais são os riscos? 😷</td>\n",
              "      <td>humano</td>\n",
              "    </tr>\n",
              "    <tr>\n",
              "      <th>1540</th>\n",
              "      <td>Nao</td>\n",
              "      <td>humano</td>\n",
              "    </tr>\n",
              "    <tr>\n",
              "      <th>1541</th>\n",
              "      <td>Ok</td>\n",
              "      <td>humano</td>\n",
              "    </tr>\n",
              "  </tbody>\n",
              "</table>\n",
              "<p>1542 rows × 2 columns</p>\n",
              "</div>\n",
              "      <button class=\"colab-df-convert\" onclick=\"convertToInteractive('df-33c153cf-fc52-4645-bc49-7d9976d03125')\"\n",
              "              title=\"Convert this dataframe to an interactive table.\"\n",
              "              style=\"display:none;\">\n",
              "        \n",
              "  <svg xmlns=\"http://www.w3.org/2000/svg\" height=\"24px\"viewBox=\"0 0 24 24\"\n",
              "       width=\"24px\">\n",
              "    <path d=\"M0 0h24v24H0V0z\" fill=\"none\"/>\n",
              "    <path d=\"M18.56 5.44l.94 2.06.94-2.06 2.06-.94-2.06-.94-.94-2.06-.94 2.06-2.06.94zm-11 1L8.5 8.5l.94-2.06 2.06-.94-2.06-.94L8.5 2.5l-.94 2.06-2.06.94zm10 10l.94 2.06.94-2.06 2.06-.94-2.06-.94-.94-2.06-.94 2.06-2.06.94z\"/><path d=\"M17.41 7.96l-1.37-1.37c-.4-.4-.92-.59-1.43-.59-.52 0-1.04.2-1.43.59L10.3 9.45l-7.72 7.72c-.78.78-.78 2.05 0 2.83L4 21.41c.39.39.9.59 1.41.59.51 0 1.02-.2 1.41-.59l7.78-7.78 2.81-2.81c.8-.78.8-2.07 0-2.86zM5.41 20L4 18.59l7.72-7.72 1.47 1.35L5.41 20z\"/>\n",
              "  </svg>\n",
              "      </button>\n",
              "      \n",
              "  <style>\n",
              "    .colab-df-container {\n",
              "      display:flex;\n",
              "      flex-wrap:wrap;\n",
              "      gap: 12px;\n",
              "    }\n",
              "\n",
              "    .colab-df-convert {\n",
              "      background-color: #E8F0FE;\n",
              "      border: none;\n",
              "      border-radius: 50%;\n",
              "      cursor: pointer;\n",
              "      display: none;\n",
              "      fill: #1967D2;\n",
              "      height: 32px;\n",
              "      padding: 0 0 0 0;\n",
              "      width: 32px;\n",
              "    }\n",
              "\n",
              "    .colab-df-convert:hover {\n",
              "      background-color: #E2EBFA;\n",
              "      box-shadow: 0px 1px 2px rgba(60, 64, 67, 0.3), 0px 1px 3px 1px rgba(60, 64, 67, 0.15);\n",
              "      fill: #174EA6;\n",
              "    }\n",
              "\n",
              "    [theme=dark] .colab-df-convert {\n",
              "      background-color: #3B4455;\n",
              "      fill: #D2E3FC;\n",
              "    }\n",
              "\n",
              "    [theme=dark] .colab-df-convert:hover {\n",
              "      background-color: #434B5C;\n",
              "      box-shadow: 0px 1px 3px 1px rgba(0, 0, 0, 0.15);\n",
              "      filter: drop-shadow(0px 1px 2px rgba(0, 0, 0, 0.3));\n",
              "      fill: #FFFFFF;\n",
              "    }\n",
              "  </style>\n",
              "\n",
              "      <script>\n",
              "        const buttonEl =\n",
              "          document.querySelector('#df-33c153cf-fc52-4645-bc49-7d9976d03125 button.colab-df-convert');\n",
              "        buttonEl.style.display =\n",
              "          google.colab.kernel.accessAllowed ? 'block' : 'none';\n",
              "\n",
              "        async function convertToInteractive(key) {\n",
              "          const element = document.querySelector('#df-33c153cf-fc52-4645-bc49-7d9976d03125');\n",
              "          const dataTable =\n",
              "            await google.colab.kernel.invokeFunction('convertToInteractive',\n",
              "                                                     [key], {});\n",
              "          if (!dataTable) return;\n",
              "\n",
              "          const docLinkHtml = 'Like what you see? Visit the ' +\n",
              "            '<a target=\"_blank\" href=https://colab.research.google.com/notebooks/data_table.ipynb>data table notebook</a>'\n",
              "            + ' to learn more about interactive tables.';\n",
              "          element.innerHTML = '';\n",
              "          dataTable['output_type'] = 'display_data';\n",
              "          await google.colab.output.renderOutput(dataTable, element);\n",
              "          const docLink = document.createElement('div');\n",
              "          docLink.innerHTML = docLinkHtml;\n",
              "          element.appendChild(docLink);\n",
              "        }\n",
              "      </script>\n",
              "    </div>\n",
              "  </div>\n",
              "  "
            ]
          },
          "metadata": {},
          "execution_count": 31
        }
      ]
    },
    {
      "cell_type": "markdown",
      "source": [
        "----------------"
      ],
      "metadata": {
        "id": "tiNdK2SxZg5d"
      }
    },
    {
      "cell_type": "markdown",
      "source": [
        "### 2. Conhecer e pré-processar os dados\n"
      ],
      "metadata": {
        "id": "sg8On8FKIr-R"
      }
    },
    {
      "cell_type": "markdown",
      "source": [
        "Conferindo algumas informações básicas sobre o conjunto de dados"
      ],
      "metadata": {
        "id": "t8SJPyNXVLaj"
      }
    },
    {
      "cell_type": "code",
      "source": [
        "# Seu código aqui\n",
        "# Mostrando algumas informações básicas do conjunto de dados\n",
        "\n"
      ],
      "metadata": {
        "id": "hb6cxLz3VQnD"
      },
      "execution_count": 37,
      "outputs": []
    },
    {
      "cell_type": "code",
      "source": [
        "#@title resultado esperado:\n",
        "\n",
        "\n",
        "print('linhas e colunas: ', data.shape)\n",
        "print('\\n')\n",
        "data.info()"
      ],
      "metadata": {
        "colab": {
          "base_uri": "https://localhost:8080/"
        },
        "cellView": "form",
        "id": "2ISkIgsQaeq4",
        "outputId": "c48c8429-a6fd-4fa7-d600-8900001cc284"
      },
      "execution_count": 34,
      "outputs": [
        {
          "output_type": "stream",
          "name": "stdout",
          "text": [
            "linhas e colunas:  (1542, 2)\n",
            "\n",
            "\n",
            "<class 'pandas.core.frame.DataFrame'>\n",
            "RangeIndex: 1542 entries, 0 to 1541\n",
            "Data columns (total 2 columns):\n",
            " #   Column  Non-Null Count  Dtype \n",
            "---  ------  --------------  ----- \n",
            " 0   text    1542 non-null   object\n",
            " 1   label   1542 non-null   object\n",
            "dtypes: object(2)\n",
            "memory usage: 24.2+ KB\n"
          ]
        }
      ]
    },
    {
      "cell_type": "markdown",
      "source": [
        "Conferindo algumas linhas do conjunto de dados:\n",
        "- primeiras linhas\n",
        "- linhas escolhidas aleatoriament"
      ],
      "metadata": {
        "id": "skxiOUztbyqp"
      }
    },
    {
      "cell_type": "code",
      "source": [
        "# Seu código aqui\n",
        "# Mostrando as primeiras linhas do conjunto de dados\n",
        "\n",
        "\n"
      ],
      "metadata": {
        "id": "2HpjMAqCbfgB"
      },
      "execution_count": null,
      "outputs": []
    },
    {
      "cell_type": "code",
      "source": [
        "#@title Resultado esperado:\n",
        "\n",
        "data.head()"
      ],
      "metadata": {
        "colab": {
          "base_uri": "https://localhost:8080/",
          "height": 206
        },
        "cellView": "form",
        "id": "xk_O9RZXbKKD",
        "outputId": "734efc10-337f-4bda-d644-8d87f28fa93e"
      },
      "execution_count": 42,
      "outputs": [
        {
          "output_type": "execute_result",
          "data": {
            "text/plain": [
              "                                                text    label\n",
              "0  Olá, muito prazer! Sou o seu assistente virtua...  chatbot\n",
              "1  Fechado, vamos fazer assim. Você passa os dado...  chatbot\n",
              "2  Pra adiantar, vou precisar que você me fale qu...  chatbot\n",
              "3  Humm eu não entendi, desculpa.\\n\\nDigite 1 par...  chatbot\n",
              "4  Pera só um instante que vou checar aqui se enc...  chatbot"
            ],
            "text/html": [
              "\n",
              "  <div id=\"df-1330d0ff-0c77-4dd1-a204-9b81ed22f9e5\">\n",
              "    <div class=\"colab-df-container\">\n",
              "      <div>\n",
              "<style scoped>\n",
              "    .dataframe tbody tr th:only-of-type {\n",
              "        vertical-align: middle;\n",
              "    }\n",
              "\n",
              "    .dataframe tbody tr th {\n",
              "        vertical-align: top;\n",
              "    }\n",
              "\n",
              "    .dataframe thead th {\n",
              "        text-align: right;\n",
              "    }\n",
              "</style>\n",
              "<table border=\"1\" class=\"dataframe\">\n",
              "  <thead>\n",
              "    <tr style=\"text-align: right;\">\n",
              "      <th></th>\n",
              "      <th>text</th>\n",
              "      <th>label</th>\n",
              "    </tr>\n",
              "  </thead>\n",
              "  <tbody>\n",
              "    <tr>\n",
              "      <th>0</th>\n",
              "      <td>Olá, muito prazer! Sou o seu assistente virtua...</td>\n",
              "      <td>chatbot</td>\n",
              "    </tr>\n",
              "    <tr>\n",
              "      <th>1</th>\n",
              "      <td>Fechado, vamos fazer assim. Você passa os dado...</td>\n",
              "      <td>chatbot</td>\n",
              "    </tr>\n",
              "    <tr>\n",
              "      <th>2</th>\n",
              "      <td>Pra adiantar, vou precisar que você me fale qu...</td>\n",
              "      <td>chatbot</td>\n",
              "    </tr>\n",
              "    <tr>\n",
              "      <th>3</th>\n",
              "      <td>Humm eu não entendi, desculpa.\\n\\nDigite 1 par...</td>\n",
              "      <td>chatbot</td>\n",
              "    </tr>\n",
              "    <tr>\n",
              "      <th>4</th>\n",
              "      <td>Pera só um instante que vou checar aqui se enc...</td>\n",
              "      <td>chatbot</td>\n",
              "    </tr>\n",
              "  </tbody>\n",
              "</table>\n",
              "</div>\n",
              "      <button class=\"colab-df-convert\" onclick=\"convertToInteractive('df-1330d0ff-0c77-4dd1-a204-9b81ed22f9e5')\"\n",
              "              title=\"Convert this dataframe to an interactive table.\"\n",
              "              style=\"display:none;\">\n",
              "        \n",
              "  <svg xmlns=\"http://www.w3.org/2000/svg\" height=\"24px\"viewBox=\"0 0 24 24\"\n",
              "       width=\"24px\">\n",
              "    <path d=\"M0 0h24v24H0V0z\" fill=\"none\"/>\n",
              "    <path d=\"M18.56 5.44l.94 2.06.94-2.06 2.06-.94-2.06-.94-.94-2.06-.94 2.06-2.06.94zm-11 1L8.5 8.5l.94-2.06 2.06-.94-2.06-.94L8.5 2.5l-.94 2.06-2.06.94zm10 10l.94 2.06.94-2.06 2.06-.94-2.06-.94-.94-2.06-.94 2.06-2.06.94z\"/><path d=\"M17.41 7.96l-1.37-1.37c-.4-.4-.92-.59-1.43-.59-.52 0-1.04.2-1.43.59L10.3 9.45l-7.72 7.72c-.78.78-.78 2.05 0 2.83L4 21.41c.39.39.9.59 1.41.59.51 0 1.02-.2 1.41-.59l7.78-7.78 2.81-2.81c.8-.78.8-2.07 0-2.86zM5.41 20L4 18.59l7.72-7.72 1.47 1.35L5.41 20z\"/>\n",
              "  </svg>\n",
              "      </button>\n",
              "      \n",
              "  <style>\n",
              "    .colab-df-container {\n",
              "      display:flex;\n",
              "      flex-wrap:wrap;\n",
              "      gap: 12px;\n",
              "    }\n",
              "\n",
              "    .colab-df-convert {\n",
              "      background-color: #E8F0FE;\n",
              "      border: none;\n",
              "      border-radius: 50%;\n",
              "      cursor: pointer;\n",
              "      display: none;\n",
              "      fill: #1967D2;\n",
              "      height: 32px;\n",
              "      padding: 0 0 0 0;\n",
              "      width: 32px;\n",
              "    }\n",
              "\n",
              "    .colab-df-convert:hover {\n",
              "      background-color: #E2EBFA;\n",
              "      box-shadow: 0px 1px 2px rgba(60, 64, 67, 0.3), 0px 1px 3px 1px rgba(60, 64, 67, 0.15);\n",
              "      fill: #174EA6;\n",
              "    }\n",
              "\n",
              "    [theme=dark] .colab-df-convert {\n",
              "      background-color: #3B4455;\n",
              "      fill: #D2E3FC;\n",
              "    }\n",
              "\n",
              "    [theme=dark] .colab-df-convert:hover {\n",
              "      background-color: #434B5C;\n",
              "      box-shadow: 0px 1px 3px 1px rgba(0, 0, 0, 0.15);\n",
              "      filter: drop-shadow(0px 1px 2px rgba(0, 0, 0, 0.3));\n",
              "      fill: #FFFFFF;\n",
              "    }\n",
              "  </style>\n",
              "\n",
              "      <script>\n",
              "        const buttonEl =\n",
              "          document.querySelector('#df-1330d0ff-0c77-4dd1-a204-9b81ed22f9e5 button.colab-df-convert');\n",
              "        buttonEl.style.display =\n",
              "          google.colab.kernel.accessAllowed ? 'block' : 'none';\n",
              "\n",
              "        async function convertToInteractive(key) {\n",
              "          const element = document.querySelector('#df-1330d0ff-0c77-4dd1-a204-9b81ed22f9e5');\n",
              "          const dataTable =\n",
              "            await google.colab.kernel.invokeFunction('convertToInteractive',\n",
              "                                                     [key], {});\n",
              "          if (!dataTable) return;\n",
              "\n",
              "          const docLinkHtml = 'Like what you see? Visit the ' +\n",
              "            '<a target=\"_blank\" href=https://colab.research.google.com/notebooks/data_table.ipynb>data table notebook</a>'\n",
              "            + ' to learn more about interactive tables.';\n",
              "          element.innerHTML = '';\n",
              "          dataTable['output_type'] = 'display_data';\n",
              "          await google.colab.output.renderOutput(dataTable, element);\n",
              "          const docLink = document.createElement('div');\n",
              "          docLink.innerHTML = docLinkHtml;\n",
              "          element.appendChild(docLink);\n",
              "        }\n",
              "      </script>\n",
              "    </div>\n",
              "  </div>\n",
              "  "
            ]
          },
          "metadata": {},
          "execution_count": 42
        }
      ]
    },
    {
      "cell_type": "code",
      "source": [
        "# seu código aqui\n",
        "# Mostrando algumas linhas do conjunto de dados de forma aleatoria\n",
        "\n"
      ],
      "metadata": {
        "id": "0W2F44_8cSXa"
      },
      "execution_count": null,
      "outputs": []
    },
    {
      "cell_type": "code",
      "source": [
        "#@title Resultado próximo ao esperado\n",
        "\n",
        "data.sample(10)"
      ],
      "metadata": {
        "cellView": "form",
        "colab": {
          "base_uri": "https://localhost:8080/",
          "height": 362
        },
        "id": "TG6CS7gigpib",
        "outputId": "60c0810f-2463-4083-fa47-6d524dc432d6"
      },
      "execution_count": 43,
      "outputs": [
        {
          "output_type": "execute_result",
          "data": {
            "text/plain": [
              "                                                   text    label\n",
              "1011                                                Não   humano\n",
              "1095  Sentir uma crise de tosse durante a madruga, p...   humano\n",
              "590                                                 Sim   humano\n",
              "5     Você tem algum desses problemas de saúde?\\n\\n1...  chatbot\n",
              "480   Do que você precisa agora? (Digite o número da...  chatbot\n",
              "640                                               start   humano\n",
              "553                                          16/01/1979   humano\n",
              "641                                                 Não   humano\n",
              "803                                       ok. Obrigada!   humano\n",
              "1520                                              start   humano"
            ],
            "text/html": [
              "\n",
              "  <div id=\"df-3a8c8ced-91af-4d9d-b53d-5c79d407845e\">\n",
              "    <div class=\"colab-df-container\">\n",
              "      <div>\n",
              "<style scoped>\n",
              "    .dataframe tbody tr th:only-of-type {\n",
              "        vertical-align: middle;\n",
              "    }\n",
              "\n",
              "    .dataframe tbody tr th {\n",
              "        vertical-align: top;\n",
              "    }\n",
              "\n",
              "    .dataframe thead th {\n",
              "        text-align: right;\n",
              "    }\n",
              "</style>\n",
              "<table border=\"1\" class=\"dataframe\">\n",
              "  <thead>\n",
              "    <tr style=\"text-align: right;\">\n",
              "      <th></th>\n",
              "      <th>text</th>\n",
              "      <th>label</th>\n",
              "    </tr>\n",
              "  </thead>\n",
              "  <tbody>\n",
              "    <tr>\n",
              "      <th>1011</th>\n",
              "      <td>Não</td>\n",
              "      <td>humano</td>\n",
              "    </tr>\n",
              "    <tr>\n",
              "      <th>1095</th>\n",
              "      <td>Sentir uma crise de tosse durante a madruga, p...</td>\n",
              "      <td>humano</td>\n",
              "    </tr>\n",
              "    <tr>\n",
              "      <th>590</th>\n",
              "      <td>Sim</td>\n",
              "      <td>humano</td>\n",
              "    </tr>\n",
              "    <tr>\n",
              "      <th>5</th>\n",
              "      <td>Você tem algum desses problemas de saúde?\\n\\n1...</td>\n",
              "      <td>chatbot</td>\n",
              "    </tr>\n",
              "    <tr>\n",
              "      <th>480</th>\n",
              "      <td>Do que você precisa agora? (Digite o número da...</td>\n",
              "      <td>chatbot</td>\n",
              "    </tr>\n",
              "    <tr>\n",
              "      <th>640</th>\n",
              "      <td>start</td>\n",
              "      <td>humano</td>\n",
              "    </tr>\n",
              "    <tr>\n",
              "      <th>553</th>\n",
              "      <td>16/01/1979</td>\n",
              "      <td>humano</td>\n",
              "    </tr>\n",
              "    <tr>\n",
              "      <th>641</th>\n",
              "      <td>Não</td>\n",
              "      <td>humano</td>\n",
              "    </tr>\n",
              "    <tr>\n",
              "      <th>803</th>\n",
              "      <td>ok. Obrigada!</td>\n",
              "      <td>humano</td>\n",
              "    </tr>\n",
              "    <tr>\n",
              "      <th>1520</th>\n",
              "      <td>start</td>\n",
              "      <td>humano</td>\n",
              "    </tr>\n",
              "  </tbody>\n",
              "</table>\n",
              "</div>\n",
              "      <button class=\"colab-df-convert\" onclick=\"convertToInteractive('df-3a8c8ced-91af-4d9d-b53d-5c79d407845e')\"\n",
              "              title=\"Convert this dataframe to an interactive table.\"\n",
              "              style=\"display:none;\">\n",
              "        \n",
              "  <svg xmlns=\"http://www.w3.org/2000/svg\" height=\"24px\"viewBox=\"0 0 24 24\"\n",
              "       width=\"24px\">\n",
              "    <path d=\"M0 0h24v24H0V0z\" fill=\"none\"/>\n",
              "    <path d=\"M18.56 5.44l.94 2.06.94-2.06 2.06-.94-2.06-.94-.94-2.06-.94 2.06-2.06.94zm-11 1L8.5 8.5l.94-2.06 2.06-.94-2.06-.94L8.5 2.5l-.94 2.06-2.06.94zm10 10l.94 2.06.94-2.06 2.06-.94-2.06-.94-.94-2.06-.94 2.06-2.06.94z\"/><path d=\"M17.41 7.96l-1.37-1.37c-.4-.4-.92-.59-1.43-.59-.52 0-1.04.2-1.43.59L10.3 9.45l-7.72 7.72c-.78.78-.78 2.05 0 2.83L4 21.41c.39.39.9.59 1.41.59.51 0 1.02-.2 1.41-.59l7.78-7.78 2.81-2.81c.8-.78.8-2.07 0-2.86zM5.41 20L4 18.59l7.72-7.72 1.47 1.35L5.41 20z\"/>\n",
              "  </svg>\n",
              "      </button>\n",
              "      \n",
              "  <style>\n",
              "    .colab-df-container {\n",
              "      display:flex;\n",
              "      flex-wrap:wrap;\n",
              "      gap: 12px;\n",
              "    }\n",
              "\n",
              "    .colab-df-convert {\n",
              "      background-color: #E8F0FE;\n",
              "      border: none;\n",
              "      border-radius: 50%;\n",
              "      cursor: pointer;\n",
              "      display: none;\n",
              "      fill: #1967D2;\n",
              "      height: 32px;\n",
              "      padding: 0 0 0 0;\n",
              "      width: 32px;\n",
              "    }\n",
              "\n",
              "    .colab-df-convert:hover {\n",
              "      background-color: #E2EBFA;\n",
              "      box-shadow: 0px 1px 2px rgba(60, 64, 67, 0.3), 0px 1px 3px 1px rgba(60, 64, 67, 0.15);\n",
              "      fill: #174EA6;\n",
              "    }\n",
              "\n",
              "    [theme=dark] .colab-df-convert {\n",
              "      background-color: #3B4455;\n",
              "      fill: #D2E3FC;\n",
              "    }\n",
              "\n",
              "    [theme=dark] .colab-df-convert:hover {\n",
              "      background-color: #434B5C;\n",
              "      box-shadow: 0px 1px 3px 1px rgba(0, 0, 0, 0.15);\n",
              "      filter: drop-shadow(0px 1px 2px rgba(0, 0, 0, 0.3));\n",
              "      fill: #FFFFFF;\n",
              "    }\n",
              "  </style>\n",
              "\n",
              "      <script>\n",
              "        const buttonEl =\n",
              "          document.querySelector('#df-3a8c8ced-91af-4d9d-b53d-5c79d407845e button.colab-df-convert');\n",
              "        buttonEl.style.display =\n",
              "          google.colab.kernel.accessAllowed ? 'block' : 'none';\n",
              "\n",
              "        async function convertToInteractive(key) {\n",
              "          const element = document.querySelector('#df-3a8c8ced-91af-4d9d-b53d-5c79d407845e');\n",
              "          const dataTable =\n",
              "            await google.colab.kernel.invokeFunction('convertToInteractive',\n",
              "                                                     [key], {});\n",
              "          if (!dataTable) return;\n",
              "\n",
              "          const docLinkHtml = 'Like what you see? Visit the ' +\n",
              "            '<a target=\"_blank\" href=https://colab.research.google.com/notebooks/data_table.ipynb>data table notebook</a>'\n",
              "            + ' to learn more about interactive tables.';\n",
              "          element.innerHTML = '';\n",
              "          dataTable['output_type'] = 'display_data';\n",
              "          await google.colab.output.renderOutput(dataTable, element);\n",
              "          const docLink = document.createElement('div');\n",
              "          docLink.innerHTML = docLinkHtml;\n",
              "          element.appendChild(docLink);\n",
              "        }\n",
              "      </script>\n",
              "    </div>\n",
              "  </div>\n",
              "  "
            ]
          },
          "metadata": {},
          "execution_count": 43
        }
      ]
    },
    {
      "cell_type": "markdown",
      "source": [
        "---------------"
      ],
      "metadata": {
        "id": "i1lPmQX3WoeN"
      }
    },
    {
      "cell_type": "markdown",
      "source": [
        "Vamos verificar a quantidade de dados nulos presente no conjunto de dados?\n"
      ],
      "metadata": {
        "id": "ltBFC24YmwHf"
      }
    },
    {
      "cell_type": "code",
      "source": [
        "# Seu código aqui\n",
        "# Quantidade de dados nulos\n",
        "\n"
      ],
      "metadata": {
        "id": "fLvV_zPtm1fL"
      },
      "execution_count": null,
      "outputs": []
    },
    {
      "cell_type": "code",
      "source": [
        "#@title Resultado esperado:\n",
        "\n",
        "data.isnull().sum()"
      ],
      "metadata": {
        "colab": {
          "base_uri": "https://localhost:8080/"
        },
        "cellView": "form",
        "id": "sMzFBh2Am5vc",
        "outputId": "0276a172-0730-4161-fc6c-4a9a3e3d19c6"
      },
      "execution_count": 44,
      "outputs": [
        {
          "output_type": "execute_result",
          "data": {
            "text/plain": [
              "text     0\n",
              "label    0\n",
              "dtype: int64"
            ]
          },
          "metadata": {},
          "execution_count": 44
        }
      ]
    },
    {
      "cell_type": "markdown",
      "source": [
        "E agora, como fazer com que a máquina consiga compreender esses textos?. <br>\n",
        "\n",
        "* `padronização`\n",
        "* `removeção stop-words (a, e, de, o, etc)`\n",
        "* `tokenização`"
      ],
      "metadata": {
        "id": "GPJzAlCLJjc9"
      }
    },
    {
      "cell_type": "code",
      "source": [
        "#Função para remover acentos e números\n",
        "\n",
        "def remover_acentos_e_numeros(txt):\n",
        "    nfkd = unicodedata.normalize('NFKD', txt)\n",
        "    palavraSemAcento = u\"\".join([c for c in nfkd if not unicodedata.combining(c)])\n",
        "    palavraSemAcento = re.sub(r\"(@[A-Za]+)|([^A-Za-z \\t])|(\\w+:\\/\\/\\S+)| ^rt|http.+?\",\"\", palavraSemAcento)\n",
        "    palavraSemAcento = str(palavraSemAcento).lower()\n",
        "    palavraSemAcento = re.sub(r\"\\d+\", \"\", palavraSemAcento)\n",
        "    palavraSemAcento = re.sub(r'  ', ' ', palavraSemAcento)\n",
        "    palavraSemAcento = re.sub(r'compartilheversao para impressao comentarios',' ',\n",
        "                                palavraSemAcento)\n",
        "    return palavraSemAcento"
      ],
      "metadata": {
        "id": "GYKVhBl1qsbo"
      },
      "execution_count": 45,
      "outputs": []
    },
    {
      "cell_type": "code",
      "source": [
        "#@title Resultado esperado:\n",
        "# Aplicando a função de padronização no texto e colocando ele em uma nova coluna chamada 'text_clean'\n",
        "\n",
        "data['texto_padronizado'] = [remover_acentos_e_numeros(i) for i in data['text']]\n",
        "data.head(12)"
      ],
      "metadata": {
        "id": "uZOni4b_JidQ",
        "colab": {
          "base_uri": "https://localhost:8080/",
          "height": 425
        },
        "cellView": "form",
        "outputId": "bde0fa2d-5aeb-474f-894b-4d6e5b6b65a7"
      },
      "execution_count": 61,
      "outputs": [
        {
          "output_type": "execute_result",
          "data": {
            "text/plain": [
              "                                                 text    label  \\\n",
              "0   Olá, muito prazer! Sou o seu assistente virtua...  chatbot   \n",
              "1   Fechado, vamos fazer assim. Você passa os dado...  chatbot   \n",
              "2   Pra adiantar, vou precisar que você me fale qu...  chatbot   \n",
              "3   Humm eu não entendi, desculpa.\\n\\nDigite 1 par...  chatbot   \n",
              "4   Pera só um instante que vou checar aqui se enc...  chatbot   \n",
              "5   Você tem algum desses problemas de saúde?\\n\\n1...  chatbot   \n",
              "6   Infelizmente eu não consegui te entender. Você...  chatbot   \n",
              "7                           Qual o seu primeiro nome?  chatbot   \n",
              "8            Você não possui nenhum pedido em aberto!  chatbot   \n",
              "9   Você está com algum dos sintomas abaixo?\\n\\n1....  chatbot   \n",
              "10                                    Agora vamos lá!  chatbot   \n",
              "11  Desculpe, não entendi sua dúvida. Do que você ...  chatbot   \n",
              "\n",
              "                                    texto_padronizado  \n",
              "0   ola muito prazer sou o seu assistente virtual ...  \n",
              "1   fechado vamos fazer assim voce passa os dados ...  \n",
              "2   pra adiantar vou precisar que voce me fale qua...  \n",
              "3   humm eu nao entendi desculpadigite para falar ...  \n",
              "4   pera so um instante que vou checar aqui se enc...  \n",
              "5   voce tem algum desses problemas de saude diabe...  \n",
              "6   infelizmente eu nao consegui te entender voce ...  \n",
              "7                            qual o seu primeiro nome  \n",
              "8             voce nao possui nenhum pedido em aberto  \n",
              "9   voce esta com algum dos sintomas abaixo febre ...  \n",
              "10                                     agora vamos la  \n",
              "11  desculpe nao entendi sua duvida do que voce pr...  "
            ],
            "text/html": [
              "\n",
              "  <div id=\"df-67c51a8d-835b-4891-8923-d4aa694a088b\">\n",
              "    <div class=\"colab-df-container\">\n",
              "      <div>\n",
              "<style scoped>\n",
              "    .dataframe tbody tr th:only-of-type {\n",
              "        vertical-align: middle;\n",
              "    }\n",
              "\n",
              "    .dataframe tbody tr th {\n",
              "        vertical-align: top;\n",
              "    }\n",
              "\n",
              "    .dataframe thead th {\n",
              "        text-align: right;\n",
              "    }\n",
              "</style>\n",
              "<table border=\"1\" class=\"dataframe\">\n",
              "  <thead>\n",
              "    <tr style=\"text-align: right;\">\n",
              "      <th></th>\n",
              "      <th>text</th>\n",
              "      <th>label</th>\n",
              "      <th>texto_padronizado</th>\n",
              "    </tr>\n",
              "  </thead>\n",
              "  <tbody>\n",
              "    <tr>\n",
              "      <th>0</th>\n",
              "      <td>Olá, muito prazer! Sou o seu assistente virtua...</td>\n",
              "      <td>chatbot</td>\n",
              "      <td>ola muito prazer sou o seu assistente virtual ...</td>\n",
              "    </tr>\n",
              "    <tr>\n",
              "      <th>1</th>\n",
              "      <td>Fechado, vamos fazer assim. Você passa os dado...</td>\n",
              "      <td>chatbot</td>\n",
              "      <td>fechado vamos fazer assim voce passa os dados ...</td>\n",
              "    </tr>\n",
              "    <tr>\n",
              "      <th>2</th>\n",
              "      <td>Pra adiantar, vou precisar que você me fale qu...</td>\n",
              "      <td>chatbot</td>\n",
              "      <td>pra adiantar vou precisar que voce me fale qua...</td>\n",
              "    </tr>\n",
              "    <tr>\n",
              "      <th>3</th>\n",
              "      <td>Humm eu não entendi, desculpa.\\n\\nDigite 1 par...</td>\n",
              "      <td>chatbot</td>\n",
              "      <td>humm eu nao entendi desculpadigite para falar ...</td>\n",
              "    </tr>\n",
              "    <tr>\n",
              "      <th>4</th>\n",
              "      <td>Pera só um instante que vou checar aqui se enc...</td>\n",
              "      <td>chatbot</td>\n",
              "      <td>pera so um instante que vou checar aqui se enc...</td>\n",
              "    </tr>\n",
              "    <tr>\n",
              "      <th>5</th>\n",
              "      <td>Você tem algum desses problemas de saúde?\\n\\n1...</td>\n",
              "      <td>chatbot</td>\n",
              "      <td>voce tem algum desses problemas de saude diabe...</td>\n",
              "    </tr>\n",
              "    <tr>\n",
              "      <th>6</th>\n",
              "      <td>Infelizmente eu não consegui te entender. Você...</td>\n",
              "      <td>chatbot</td>\n",
              "      <td>infelizmente eu nao consegui te entender voce ...</td>\n",
              "    </tr>\n",
              "    <tr>\n",
              "      <th>7</th>\n",
              "      <td>Qual o seu primeiro nome?</td>\n",
              "      <td>chatbot</td>\n",
              "      <td>qual o seu primeiro nome</td>\n",
              "    </tr>\n",
              "    <tr>\n",
              "      <th>8</th>\n",
              "      <td>Você não possui nenhum pedido em aberto!</td>\n",
              "      <td>chatbot</td>\n",
              "      <td>voce nao possui nenhum pedido em aberto</td>\n",
              "    </tr>\n",
              "    <tr>\n",
              "      <th>9</th>\n",
              "      <td>Você está com algum dos sintomas abaixo?\\n\\n1....</td>\n",
              "      <td>chatbot</td>\n",
              "      <td>voce esta com algum dos sintomas abaixo febre ...</td>\n",
              "    </tr>\n",
              "    <tr>\n",
              "      <th>10</th>\n",
              "      <td>Agora vamos lá!</td>\n",
              "      <td>chatbot</td>\n",
              "      <td>agora vamos la</td>\n",
              "    </tr>\n",
              "    <tr>\n",
              "      <th>11</th>\n",
              "      <td>Desculpe, não entendi sua dúvida. Do que você ...</td>\n",
              "      <td>chatbot</td>\n",
              "      <td>desculpe nao entendi sua duvida do que voce pr...</td>\n",
              "    </tr>\n",
              "  </tbody>\n",
              "</table>\n",
              "</div>\n",
              "      <button class=\"colab-df-convert\" onclick=\"convertToInteractive('df-67c51a8d-835b-4891-8923-d4aa694a088b')\"\n",
              "              title=\"Convert this dataframe to an interactive table.\"\n",
              "              style=\"display:none;\">\n",
              "        \n",
              "  <svg xmlns=\"http://www.w3.org/2000/svg\" height=\"24px\"viewBox=\"0 0 24 24\"\n",
              "       width=\"24px\">\n",
              "    <path d=\"M0 0h24v24H0V0z\" fill=\"none\"/>\n",
              "    <path d=\"M18.56 5.44l.94 2.06.94-2.06 2.06-.94-2.06-.94-.94-2.06-.94 2.06-2.06.94zm-11 1L8.5 8.5l.94-2.06 2.06-.94-2.06-.94L8.5 2.5l-.94 2.06-2.06.94zm10 10l.94 2.06.94-2.06 2.06-.94-2.06-.94-.94-2.06-.94 2.06-2.06.94z\"/><path d=\"M17.41 7.96l-1.37-1.37c-.4-.4-.92-.59-1.43-.59-.52 0-1.04.2-1.43.59L10.3 9.45l-7.72 7.72c-.78.78-.78 2.05 0 2.83L4 21.41c.39.39.9.59 1.41.59.51 0 1.02-.2 1.41-.59l7.78-7.78 2.81-2.81c.8-.78.8-2.07 0-2.86zM5.41 20L4 18.59l7.72-7.72 1.47 1.35L5.41 20z\"/>\n",
              "  </svg>\n",
              "      </button>\n",
              "      \n",
              "  <style>\n",
              "    .colab-df-container {\n",
              "      display:flex;\n",
              "      flex-wrap:wrap;\n",
              "      gap: 12px;\n",
              "    }\n",
              "\n",
              "    .colab-df-convert {\n",
              "      background-color: #E8F0FE;\n",
              "      border: none;\n",
              "      border-radius: 50%;\n",
              "      cursor: pointer;\n",
              "      display: none;\n",
              "      fill: #1967D2;\n",
              "      height: 32px;\n",
              "      padding: 0 0 0 0;\n",
              "      width: 32px;\n",
              "    }\n",
              "\n",
              "    .colab-df-convert:hover {\n",
              "      background-color: #E2EBFA;\n",
              "      box-shadow: 0px 1px 2px rgba(60, 64, 67, 0.3), 0px 1px 3px 1px rgba(60, 64, 67, 0.15);\n",
              "      fill: #174EA6;\n",
              "    }\n",
              "\n",
              "    [theme=dark] .colab-df-convert {\n",
              "      background-color: #3B4455;\n",
              "      fill: #D2E3FC;\n",
              "    }\n",
              "\n",
              "    [theme=dark] .colab-df-convert:hover {\n",
              "      background-color: #434B5C;\n",
              "      box-shadow: 0px 1px 3px 1px rgba(0, 0, 0, 0.15);\n",
              "      filter: drop-shadow(0px 1px 2px rgba(0, 0, 0, 0.3));\n",
              "      fill: #FFFFFF;\n",
              "    }\n",
              "  </style>\n",
              "\n",
              "      <script>\n",
              "        const buttonEl =\n",
              "          document.querySelector('#df-67c51a8d-835b-4891-8923-d4aa694a088b button.colab-df-convert');\n",
              "        buttonEl.style.display =\n",
              "          google.colab.kernel.accessAllowed ? 'block' : 'none';\n",
              "\n",
              "        async function convertToInteractive(key) {\n",
              "          const element = document.querySelector('#df-67c51a8d-835b-4891-8923-d4aa694a088b');\n",
              "          const dataTable =\n",
              "            await google.colab.kernel.invokeFunction('convertToInteractive',\n",
              "                                                     [key], {});\n",
              "          if (!dataTable) return;\n",
              "\n",
              "          const docLinkHtml = 'Like what you see? Visit the ' +\n",
              "            '<a target=\"_blank\" href=https://colab.research.google.com/notebooks/data_table.ipynb>data table notebook</a>'\n",
              "            + ' to learn more about interactive tables.';\n",
              "          element.innerHTML = '';\n",
              "          dataTable['output_type'] = 'display_data';\n",
              "          await google.colab.output.renderOutput(dataTable, element);\n",
              "          const docLink = document.createElement('div');\n",
              "          docLink.innerHTML = docLinkHtml;\n",
              "          element.appendChild(docLink);\n",
              "        }\n",
              "      </script>\n",
              "    </div>\n",
              "  </div>\n",
              "  "
            ]
          },
          "metadata": {},
          "execution_count": 61
        }
      ]
    },
    {
      "cell_type": "code",
      "source": [
        "\n"
      ],
      "metadata": {
        "id": "GcrsOnRWrk8-",
        "outputId": "727ebc30-2d55-4cf7-965e-5e45a7859fd5",
        "colab": {
          "base_uri": "https://localhost:8080/",
          "height": 362
        }
      },
      "execution_count": 58,
      "outputs": [
        {
          "output_type": "execute_result",
          "data": {
            "text/plain": [
              "                                                   text    label  \\\n",
              "1328                    Qual a orientação que vc me dá?   humano   \n",
              "1446                                              start   humano   \n",
              "1289                                     Já sincronizou   humano   \n",
              "1015                                            Começar   humano   \n",
              "98    Nos próximos instantes alguém do meu time vai ...  chatbot   \n",
              "1302                                                 Ok   humano   \n",
              "1215                    No momento só a sensação febriu   humano   \n",
              "1076                                                  3   humano   \n",
              "369                 Você está em isolamento domiciliar?  chatbot   \n",
              "1338                                        Obrigado  !   humano   \n",
              "\n",
              "                                      texto_padronizado  \n",
              "1328                     qual a orientacao que vc me da  \n",
              "1446                                              start  \n",
              "1289                                     ja sincronizou  \n",
              "1015                                            comecar  \n",
              "98    nos proximos instantes alguem do meu time vai ...  \n",
              "1302                                                 ok  \n",
              "1215                    no momento so a sensacao febriu  \n",
              "1076                                                     \n",
              "369                  voce esta em isolamento domiciliar  \n",
              "1338                                          obrigado   "
            ],
            "text/html": [
              "\n",
              "  <div id=\"df-8f79fe99-213c-4a7b-8658-c4f9ffd92044\">\n",
              "    <div class=\"colab-df-container\">\n",
              "      <div>\n",
              "<style scoped>\n",
              "    .dataframe tbody tr th:only-of-type {\n",
              "        vertical-align: middle;\n",
              "    }\n",
              "\n",
              "    .dataframe tbody tr th {\n",
              "        vertical-align: top;\n",
              "    }\n",
              "\n",
              "    .dataframe thead th {\n",
              "        text-align: right;\n",
              "    }\n",
              "</style>\n",
              "<table border=\"1\" class=\"dataframe\">\n",
              "  <thead>\n",
              "    <tr style=\"text-align: right;\">\n",
              "      <th></th>\n",
              "      <th>text</th>\n",
              "      <th>label</th>\n",
              "      <th>texto_padronizado</th>\n",
              "    </tr>\n",
              "  </thead>\n",
              "  <tbody>\n",
              "    <tr>\n",
              "      <th>1328</th>\n",
              "      <td>Qual a orientação que vc me dá?</td>\n",
              "      <td>humano</td>\n",
              "      <td>qual a orientacao que vc me da</td>\n",
              "    </tr>\n",
              "    <tr>\n",
              "      <th>1446</th>\n",
              "      <td>start</td>\n",
              "      <td>humano</td>\n",
              "      <td>start</td>\n",
              "    </tr>\n",
              "    <tr>\n",
              "      <th>1289</th>\n",
              "      <td>Já sincronizou</td>\n",
              "      <td>humano</td>\n",
              "      <td>ja sincronizou</td>\n",
              "    </tr>\n",
              "    <tr>\n",
              "      <th>1015</th>\n",
              "      <td>Começar</td>\n",
              "      <td>humano</td>\n",
              "      <td>comecar</td>\n",
              "    </tr>\n",
              "    <tr>\n",
              "      <th>98</th>\n",
              "      <td>Nos próximos instantes alguém do meu time vai ...</td>\n",
              "      <td>chatbot</td>\n",
              "      <td>nos proximos instantes alguem do meu time vai ...</td>\n",
              "    </tr>\n",
              "    <tr>\n",
              "      <th>1302</th>\n",
              "      <td>Ok</td>\n",
              "      <td>humano</td>\n",
              "      <td>ok</td>\n",
              "    </tr>\n",
              "    <tr>\n",
              "      <th>1215</th>\n",
              "      <td>No momento só a sensação febriu</td>\n",
              "      <td>humano</td>\n",
              "      <td>no momento so a sensacao febriu</td>\n",
              "    </tr>\n",
              "    <tr>\n",
              "      <th>1076</th>\n",
              "      <td>3</td>\n",
              "      <td>humano</td>\n",
              "      <td></td>\n",
              "    </tr>\n",
              "    <tr>\n",
              "      <th>369</th>\n",
              "      <td>Você está em isolamento domiciliar?</td>\n",
              "      <td>chatbot</td>\n",
              "      <td>voce esta em isolamento domiciliar</td>\n",
              "    </tr>\n",
              "    <tr>\n",
              "      <th>1338</th>\n",
              "      <td>Obrigado  !</td>\n",
              "      <td>humano</td>\n",
              "      <td>obrigado</td>\n",
              "    </tr>\n",
              "  </tbody>\n",
              "</table>\n",
              "</div>\n",
              "      <button class=\"colab-df-convert\" onclick=\"convertToInteractive('df-8f79fe99-213c-4a7b-8658-c4f9ffd92044')\"\n",
              "              title=\"Convert this dataframe to an interactive table.\"\n",
              "              style=\"display:none;\">\n",
              "        \n",
              "  <svg xmlns=\"http://www.w3.org/2000/svg\" height=\"24px\"viewBox=\"0 0 24 24\"\n",
              "       width=\"24px\">\n",
              "    <path d=\"M0 0h24v24H0V0z\" fill=\"none\"/>\n",
              "    <path d=\"M18.56 5.44l.94 2.06.94-2.06 2.06-.94-2.06-.94-.94-2.06-.94 2.06-2.06.94zm-11 1L8.5 8.5l.94-2.06 2.06-.94-2.06-.94L8.5 2.5l-.94 2.06-2.06.94zm10 10l.94 2.06.94-2.06 2.06-.94-2.06-.94-.94-2.06-.94 2.06-2.06.94z\"/><path d=\"M17.41 7.96l-1.37-1.37c-.4-.4-.92-.59-1.43-.59-.52 0-1.04.2-1.43.59L10.3 9.45l-7.72 7.72c-.78.78-.78 2.05 0 2.83L4 21.41c.39.39.9.59 1.41.59.51 0 1.02-.2 1.41-.59l7.78-7.78 2.81-2.81c.8-.78.8-2.07 0-2.86zM5.41 20L4 18.59l7.72-7.72 1.47 1.35L5.41 20z\"/>\n",
              "  </svg>\n",
              "      </button>\n",
              "      \n",
              "  <style>\n",
              "    .colab-df-container {\n",
              "      display:flex;\n",
              "      flex-wrap:wrap;\n",
              "      gap: 12px;\n",
              "    }\n",
              "\n",
              "    .colab-df-convert {\n",
              "      background-color: #E8F0FE;\n",
              "      border: none;\n",
              "      border-radius: 50%;\n",
              "      cursor: pointer;\n",
              "      display: none;\n",
              "      fill: #1967D2;\n",
              "      height: 32px;\n",
              "      padding: 0 0 0 0;\n",
              "      width: 32px;\n",
              "    }\n",
              "\n",
              "    .colab-df-convert:hover {\n",
              "      background-color: #E2EBFA;\n",
              "      box-shadow: 0px 1px 2px rgba(60, 64, 67, 0.3), 0px 1px 3px 1px rgba(60, 64, 67, 0.15);\n",
              "      fill: #174EA6;\n",
              "    }\n",
              "\n",
              "    [theme=dark] .colab-df-convert {\n",
              "      background-color: #3B4455;\n",
              "      fill: #D2E3FC;\n",
              "    }\n",
              "\n",
              "    [theme=dark] .colab-df-convert:hover {\n",
              "      background-color: #434B5C;\n",
              "      box-shadow: 0px 1px 3px 1px rgba(0, 0, 0, 0.15);\n",
              "      filter: drop-shadow(0px 1px 2px rgba(0, 0, 0, 0.3));\n",
              "      fill: #FFFFFF;\n",
              "    }\n",
              "  </style>\n",
              "\n",
              "      <script>\n",
              "        const buttonEl =\n",
              "          document.querySelector('#df-8f79fe99-213c-4a7b-8658-c4f9ffd92044 button.colab-df-convert');\n",
              "        buttonEl.style.display =\n",
              "          google.colab.kernel.accessAllowed ? 'block' : 'none';\n",
              "\n",
              "        async function convertToInteractive(key) {\n",
              "          const element = document.querySelector('#df-8f79fe99-213c-4a7b-8658-c4f9ffd92044');\n",
              "          const dataTable =\n",
              "            await google.colab.kernel.invokeFunction('convertToInteractive',\n",
              "                                                     [key], {});\n",
              "          if (!dataTable) return;\n",
              "\n",
              "          const docLinkHtml = 'Like what you see? Visit the ' +\n",
              "            '<a target=\"_blank\" href=https://colab.research.google.com/notebooks/data_table.ipynb>data table notebook</a>'\n",
              "            + ' to learn more about interactive tables.';\n",
              "          element.innerHTML = '';\n",
              "          dataTable['output_type'] = 'display_data';\n",
              "          await google.colab.output.renderOutput(dataTable, element);\n",
              "          const docLink = document.createElement('div');\n",
              "          docLink.innerHTML = docLinkHtml;\n",
              "          element.appendChild(docLink);\n",
              "        }\n",
              "      </script>\n",
              "    </div>\n",
              "  </div>\n",
              "  "
            ]
          },
          "metadata": {},
          "execution_count": 58
        }
      ]
    },
    {
      "cell_type": "markdown",
      "source": [
        "### 3. Vamos modelar? Criação de um modelo de classificação"
      ],
      "metadata": {
        "id": "aKCTbVAaJ99K"
      }
    },
    {
      "cell_type": "code",
      "source": [],
      "metadata": {
        "id": "QQnxVnTsKhJH"
      },
      "execution_count": null,
      "outputs": []
    },
    {
      "cell_type": "markdown",
      "source": [
        "### 4. Como saber se nosso modelo foi bem? Interpretação de métricas."
      ],
      "metadata": {
        "id": "SKFt8qHKKi_o"
      }
    },
    {
      "cell_type": "code",
      "source": [],
      "metadata": {
        "id": "xvngJQcFKoql"
      },
      "execution_count": null,
      "outputs": []
    },
    {
      "cell_type": "markdown",
      "source": [
        "###. 5. Referências"
      ],
      "metadata": {
        "id": "rgt1Q4UiNrXR"
      }
    },
    {
      "cell_type": "markdown",
      "source": [
        "* [Documentação Scikit Learn](https://scikit-learn.org/stable/)"
      ],
      "metadata": {
        "id": "kAho1jFPNvCl"
      }
    },
    {
      "cell_type": "code",
      "source": [],
      "metadata": {
        "id": "1qEz-WvuN_FU"
      },
      "execution_count": null,
      "outputs": []
    }
  ]
}